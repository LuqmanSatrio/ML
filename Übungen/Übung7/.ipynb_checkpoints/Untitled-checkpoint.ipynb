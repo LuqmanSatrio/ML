{
 "cells": [
  {
   "cell_type": "markdown",
   "metadata": {},
   "source": [
    "# Exercise 7"
   ]
  },
  {
   "cell_type": "code",
   "execution_count": 5,
   "metadata": {},
   "outputs": [],
   "source": [
    "# Task is to implement a 10-armed bandit problem and use reinforcement learning, to solve it\n",
    "# Therefore we have n = 10 possible actions with a mean reward of Q*(a) drawn from a normal distribution Gauss(0,1)\n",
    "# The actual reward of an action a is drawn from the distribution Gauss(Q*(a), 1)\n",
    "\n",
    "# The algorithm is set to perform 1000 plays.\n",
    "# These plays get repeated 2000 times and the results get averaged.\n",
    "# The experiment should be run with epsilons of 0.1, 0.01 and 0.009\n",
    "# Furthermore the average number of times that the optinal action was selected should be plotted\n",
    "\n",
    "import numpy as np"
   ]
  },
  {
   "cell_type": "code",
   "execution_count": 14,
   "metadata": {},
   "outputs": [],
   "source": [
    "def initialize_bandit(number_of_arms):\n",
    "    actions = []\n",
    "    for i in range(number_of_arms):\n",
    "        mean = np.random.normal(0, 1)\n",
    "        print(mean)\n",
    "        actions.append(lambda : np.random.normal(mean, 1))\n",
    "    return actions"
   ]
  },
  {
   "cell_type": "code",
   "execution_count": 15,
   "metadata": {},
   "outputs": [
    {
     "name": "stdout",
     "output_type": "stream",
     "text": [
      "-0.5358376609111193\n",
      "-1.106019205861482\n",
      "1.6285929353387605\n",
      "1.3668637833226218\n",
      "2.3736305131206605\n",
      "-0.3661181486344035\n",
      "-0.10208390357538304\n",
      "-1.7926480965582545\n",
      "-0.8963498244224871\n",
      "-0.8425615902755649\n"
     ]
    },
    {
     "data": {
      "text/plain": [
       "[-0.6104484694921771,\n",
       " -0.6746310167598801,\n",
       " -0.516397916223982,\n",
       " -1.562871471126047,\n",
       " -0.8995690921971329,\n",
       " 1.3405407987335836,\n",
       " 0.08009975230919952,\n",
       " -1.765231356176924,\n",
       " -1.073170109276326,\n",
       " -1.3456966564255524]"
      ]
     },
     "execution_count": 15,
     "metadata": {},
     "output_type": "execute_result"
    }
   ],
   "source": [
    "ac = initialize_bandit(10)\n",
    "list(map(lambda y: y(),ac))"
   ]
  },
  {
   "cell_type": "code",
   "execution_count": null,
   "metadata": {},
   "outputs": [],
   "source": []
  }
 ],
 "metadata": {
  "kernelspec": {
   "display_name": "Python 3",
   "language": "python",
   "name": "python3"
  },
  "language_info": {
   "codemirror_mode": {
    "name": "ipython",
    "version": 3
   },
   "file_extension": ".py",
   "mimetype": "text/x-python",
   "name": "python",
   "nbconvert_exporter": "python",
   "pygments_lexer": "ipython3",
   "version": "3.6.7"
  }
 },
 "nbformat": 4,
 "nbformat_minor": 2
}
