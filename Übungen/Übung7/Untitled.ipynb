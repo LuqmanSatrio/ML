{
 "cells": [
  {
   "cell_type": "markdown",
   "metadata": {},
   "source": [
    "# Exercise 7"
   ]
  },
  {
   "cell_type": "code",
   "execution_count": 2,
   "metadata": {},
   "outputs": [],
   "source": [
    "# Task is to implement a 10-armed bandit problem and use reinforcement learning, to solve it\n",
    "# Therefore we have n = 10 possible actions with a mean reward of Q*(a) drawn from a normal distribution Gauss(0,1)\n",
    "# The actual reward of an action a is drawn from the distribution Gauss(Q*(a), 1)\n",
    "\n",
    "# The algorithm is set to perform 1000 plays.\n",
    "# These plays get repeated 2000 times and the results get averaged.\n",
    "# The experiment should be run with epsilons of 0.1, 0.01 and 0.009\n",
    "# Furthermore the average number of times that the optinal action was selected should be plotted\n",
    "\n",
    "import numpy as np"
   ]
  },
  {
   "cell_type": "code",
   "execution_count": 3,
   "metadata": {},
   "outputs": [],
   "source": [
    "def initialize_bandit(number_of_arms):\n",
    "    actions = []\n",
    "    for i in range(number_of_arms):\n",
    "        mean = np.random.normal(0, 1)\n",
    "        print(mean)\n",
    "        actions.append(lambda : np.random.normal(mean, 1))\n",
    "    return actions"
   ]
  },
  {
   "cell_type": "code",
   "execution_count": 4,
   "metadata": {},
   "outputs": [
    {
     "name": "stdout",
     "output_type": "stream",
     "text": [
      "0.8931078007946756\n",
      "0.49505843418545387\n",
      "0.9851295310948177\n",
      "-1.987867899043095\n",
      "-0.37295980752836877\n",
      "0.25124383495222435\n",
      "-2.1507628599013207\n",
      "-0.5914880981725351\n",
      "0.3998118812589481\n",
      "0.49053354498613544\n"
     ]
    },
    {
     "data": {
      "text/plain": [
       "[1.8456879849580263,\n",
       " -0.28347860038595407,\n",
       " 0.8319236855610205,\n",
       " 1.4482636656858867,\n",
       " -0.2972488062958296,\n",
       " -0.5185765098000514,\n",
       " 0.02164312139735125,\n",
       " 0.576536946815697,\n",
       " 0.02448962772695923,\n",
       " 0.45060570942029743]"
      ]
     },
     "execution_count": 4,
     "metadata": {},
     "output_type": "execute_result"
    }
   ],
   "source": [
    "ac = initialize_bandit(10)\n",
    "list(map(lambda y: y(),ac))"
   ]
  },
  {
   "cell_type": "code",
   "execution_count": 6,
   "metadata": {},
   "outputs": [
    {
     "data": {
      "text/plain": [
       "-0.5392739122113581"
      ]
     },
     "execution_count": 6,
     "metadata": {},
     "output_type": "execute_result"
    }
   ],
   "source": [
    "ac[0]()"
   ]
  },
  {
   "cell_type": "code",
   "execution_count": null,
   "metadata": {},
   "outputs": [],
   "source": []
  }
 ],
 "metadata": {
  "kernelspec": {
   "display_name": "Python 3",
   "language": "python",
   "name": "python3"
  },
  "language_info": {
   "codemirror_mode": {
    "name": "ipython",
    "version": 3
   },
   "file_extension": ".py",
   "mimetype": "text/x-python",
   "name": "python",
   "nbconvert_exporter": "python",
   "pygments_lexer": "ipython3",
   "version": "3.6.7"
  }
 },
 "nbformat": 4,
 "nbformat_minor": 2
}
