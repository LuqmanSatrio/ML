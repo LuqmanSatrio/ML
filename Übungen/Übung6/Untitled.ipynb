{
 "cells": [
  {
   "cell_type": "markdown",
   "metadata": {},
   "source": [
    "# EXERCISE 6"
   ]
  },
  {
   "cell_type": "markdown",
   "metadata": {},
   "source": [
    "## 1. Mixture of Gaussians"
   ]
  },
  {
   "cell_type": "markdown",
   "metadata": {},
   "source": [
    "(1) Define the parameters of 3 Gaussian distribution functions in two dimensions."
   ]
  },
  {
   "cell_type": "code",
   "execution_count": 6,
   "metadata": {},
   "outputs": [],
   "source": [
    "# imports needed for Exercise 6\n",
    "import numpy as np\n",
    "import math as m\n",
    "import random\n",
    "import matplotlib.pyplot as plt"
   ]
  },
  {
   "cell_type": "code",
   "execution_count": 7,
   "metadata": {},
   "outputs": [
    {
     "ename": "ModuleNotFoundError",
     "evalue": "No module named 'panda'",
     "output_type": "error",
     "traceback": [
      "\u001b[0;31m---------------------------------------------------------------------------\u001b[0m",
      "\u001b[0;31mModuleNotFoundError\u001b[0m                       Traceback (most recent call last)",
      "\u001b[0;32m<ipython-input-7-f542dbfa5144>\u001b[0m in \u001b[0;36m<module>\u001b[0;34m\u001b[0m\n\u001b[0;32m----> 1\u001b[0;31m \u001b[0;32mimport\u001b[0m \u001b[0mpanda\u001b[0m \u001b[0;32mas\u001b[0m \u001b[0mpd\u001b[0m\u001b[0;34m\u001b[0m\u001b[0;34m\u001b[0m\u001b[0m\n\u001b[0m",
      "\u001b[0;31mModuleNotFoundError\u001b[0m: No module named 'panda'"
     ]
    }
   ],
   "source": [
    "import panda as pd"
   ]
  },
  {
   "cell_type": "code",
   "execution_count": 8,
   "metadata": {},
   "outputs": [
    {
     "data": {
      "text/plain": [
       "array([[0.]])"
      ]
     },
     "execution_count": 8,
     "metadata": {},
     "output_type": "execute_result"
    }
   ],
   "source": [
    "def bivariate_gauss(x, mu, covarianzmatrix):\n",
    "    a = (1/(m.sqrt((2* m.pi)**2)) * np.linalg.det(covarianzmatrix))\n",
    "    b = (m.e ** (np.matmul(np.matmul(-0.5*np.transpose(x-mu), np.linalg.inv(covarianzmatrix)),  x-mu)))\n",
    "    return a * b\n",
    "\n",
    "bivariate_gauss(np.array([[100],[100]]), np.array([[2],[2]]), np.array([[1, 0],[0, 1]]))\n"
   ]
  },
  {
   "cell_type": "code",
   "execution_count": 9,
   "metadata": {},
   "outputs": [],
   "source": [
    "gauss_1 = np.random.multivariate_normal([6,6],[[1,0],[0,1]],100)\n",
    "gauss_2 = np.random.multivariate_normal([3.5,-1],[[0.1,0],[0,3]],100)\n",
    "gauss_3 = np.random.multivariate_normal([1,4],[[0.9,0],[0,0.2]],100)\n",
    "gauss_com = np.concatenate((gauss_1,gauss_2, gauss_3),axis=0)\n"
   ]
  },
  {
   "cell_type": "code",
   "execution_count": 10,
   "metadata": {},
   "outputs": [
    {
     "data": {
      "text/plain": [
       "300"
      ]
     },
     "execution_count": 10,
     "metadata": {},
     "output_type": "execute_result"
    }
   ],
   "source": [
    "len(gauss_com)"
   ]
  },
  {
   "cell_type": "code",
   "execution_count": 11,
   "metadata": {},
   "outputs": [
    {
     "data": {
      "image/png": "[encoded data removed]",
      "text/plain": [
       "<Figure size 432x288 with 1 Axes>"
      ]
     },
     "metadata": {
      "needs_background": "light"
     },
     "output_type": "display_data"
    }
   ],
   "source": [
    "gauss_1_x = gauss_1[:,0]\n",
    "gauss_1_y = gauss_1[:,1]\n",
    "gauss_2_x = gauss_2[:,0]\n",
    "gauss_2_y = gauss_2[:,1]\n",
    "gauss_3_x = gauss_3[:,0]\n",
    "gauss_3_y = gauss_3[:,1]\n",
    "fig = plt.figure()\n",
    "ax = fig.add_subplot(1, 1, 1)\n",
    "ax.scatter(gauss_1_x, gauss_1_y, c=\"black\")\n",
    "ax.scatter(gauss_2_x, gauss_2_y, c=\"red\")\n",
    "ax.scatter(gauss_3_x, gauss_3_y, c=\"blue\")\n",
    "plt.show()"
   ]
  },
  {
   "cell_type": "code",
   "execution_count": 12,
   "metadata": {},
   "outputs": [
    {
     "data": {
      "image/png": "[encoded data removed]",
      "text/plain": [
       "<Figure size 432x288 with 2 Axes>"
      ]
     },
     "metadata": {},
     "output_type": "display_data"
    }
   ],
   "source": [
    "import numpy as np\n",
    "import matplotlib.pyplot as plt\n",
    "from matplotlib import cm\n",
    "from mpl_toolkits.mplot3d import Axes3D\n",
    "\n",
    "# Our 2-dimensional distribution will be over variables X and Y\n",
    "N = 100\n",
    "X = gauss_1[:,0]\n",
    "Y = gauss_1[:,1]\n",
    "X, Y = np.meshgrid(X, Y)\n",
    "\n",
    "# Mean vector and covariance matrix\n",
    "mu = np.array([3., 4.])\n",
    "Sigma = np.array([[ 1. , 0.], [0.,  1.]])\n",
    "\n",
    "# Pack X and Y into a single 3-dimensional array\n",
    "pos = np.empty(X.shape + (2,))\n",
    "pos[:, :, 0] = X\n",
    "pos[:, :, 1] = Y\n",
    "\n",
    "def multivariate_gaussian(pos, mu, Sigma):\n",
    "    \"\"\"Return the multivariate Gaussian distribution on array pos.\"\"\"\n",
    "\n",
    "    n = mu.shape[0]\n",
    "    Sigma_det = np.linalg.det(Sigma)\n",
    "    Sigma_inv = np.linalg.inv(Sigma)\n",
    "    N = np.sqrt((2*np.pi)**n * Sigma_det)\n",
    "    # This einsum call calculates (x-mu)T.Sigma-1.(x-mu) in a vectorized\n",
    "    # way across all the input variables.\n",
    "    fac = np.einsum('...k,kl,...l->...', pos-mu, Sigma_inv, pos-mu)\n",
    "\n",
    "    return np.exp(-fac / 2) / N\n",
    "\n",
    "# The distribution on the variables X, Y packed into pos.\n",
    "Z = multivariate_gaussian(pos, mu, Sigma)\n",
    "\n",
    "# plot using subplots\n",
    "fig = plt.figure()\n",
    "ax1 = fig.add_subplot(3,1,1,projection='3d')\n",
    "\n",
    "ax1.plot_surface(X, Y, Z, rstride=3, cstride=3, linewidth=1, antialiased=True,\n",
    "                cmap=cm.viridis)\n",
    "ax1.view_init(55,-70)\n",
    "ax1.set_xticks([])\n",
    "ax1.set_yticks([])\n",
    "ax1.set_zticks([])\n",
    "ax1.set_xlabel(r'$x_1$')\n",
    "ax1.set_ylabel(r'$x_2$')\n",
    "\n",
    "ax2 = fig.add_subplot(2,1,2,projection='3d')\n",
    "ax2.contourf(X, Y, Z, zdir='z', offset=0, cmap=cm.viridis)\n",
    "ax2.view_init(90, 270)\n",
    "\n",
    "ax2.grid(False)\n",
    "ax2.set_xticks([])\n",
    "ax2.set_yticks([])\n",
    "ax2.set_zticks([])\n",
    "ax2.set_xlabel(r'$x_1$')\n",
    "ax2.set_ylabel(r'$x_2$')\n",
    "\n",
    "plt.show()"
   ]
  },
  {
   "cell_type": "code",
   "execution_count": 13,
   "metadata": {},
   "outputs": [
    {
     "data": {
      "text/plain": [
       "0.2905758415662736"
      ]
     },
     "execution_count": 13,
     "metadata": {},
     "output_type": "execute_result"
    }
   ],
   "source": [
    "# Calculate the probability of a point with the following\n",
    "multivariate_gaussian(np.array([3.5,-1]), np.array([3.5,-1]), np.array([[0.1,0],[0,3]]))"
   ]
  },
  {
   "cell_type": "code",
   "execution_count": 14,
   "metadata": {},
   "outputs": [],
   "source": [
    "#mue, covariance, pi\n",
    "def initial():\n",
    "    return [np.random.rand(2), np.array([[1,0],[0,1]]), np.random.rand(1)]"
   ]
  },
  {
   "cell_type": "code",
   "execution_count": 93,
   "metadata": {},
   "outputs": [],
   "source": [
    "#dist_1 to _3 are bivariate gaussians\n",
    "#X is a list of two dimensional points, which the gaussians should be fit to\n",
    "\n",
    "#returns a list of lists containing the likelyhood values of each x towards each gaussian\n",
    "def e_step(dist_1, dist_2, dist_3, X):\n",
    "    Xs = [[dist_1[2] * multivariate_gaussian(x, dist_1[0], dist_1[1]), \n",
    "           dist_2[2] * multivariate_gaussian(x, dist_2[0], dist_2[1]), \n",
    "           dist_3[2] * multivariate_gaussian(x, dist_3[0], dist_3[1])] for x in X]\n",
    "    return [[xs[0]/sum(xs), xs[1]/sum(xs), xs[2]/sum(xs)] for xs in Xs]\n",
    "\n",
    "#Xs is an numpy array of lists xs\n",
    "#xs = [dist_1_l, dist_2_l, dist_3_l] is a list of 3 elements, each of which correspond to the likelyhood value for the corresponding point\n",
    "#   to be drawn from the distribution\n",
    "def m_step(dist_1, dist_2, dist_3, Xs, X):\n",
    "    #for each gaussian parameters have to be adjusted\n",
    "    #m_c is a weight for a gaussian c\n",
    "    m_c1 = sum([xs[0] for xs in Xs])\n",
    "    m_c2 = sum([xs[1] for xs in Xs])\n",
    "    m_c3 = sum([xs[2] for xs in Xs])\n",
    "    \n",
    "    #m equals the number of trainingsdata\n",
    "    m = len(Xs)\n",
    "    \n",
    "    #pi_c is the normalized weight of a gaussian c\n",
    "    pi_c1 = m_c1/m\n",
    "    pi_c2 = m_c2/m\n",
    "    pi_c3 = m_c3/m\n",
    "    \n",
    "    zipped_points = list(zip(Xs, X))\n",
    "    \n",
    "    #mue_c is the adjusted mean vector for a gaussian c\n",
    "    #xsx = ([list of likelyhood values], point x)\n",
    "    mue_c1 = (1/float(m_c1)*sum([xsx[0][0]*xsx[1] for xsx in zipped_points]))[np.newaxis]\n",
    "    mue_c2 = (1/float(m_c2)*sum([xsx[0][1]*xsx[1] for xsx in zipped_points]))[np.newaxis]\n",
    "    mue_c3 = (1/float(m_c3)*sum([xsx[0][2]*xsx[1] for xsx in zipped_points]))[np.newaxis]\n",
    "    \n",
    "    #cov_c is the adjusted covariance matrix of a gaussian\n",
    "    #xsx[0] is the likelyhood list for one point x\n",
    "    #xsx[1] is the point x\n",
    "    #xsx[1][np.newaxis] makes the array two dimensional, for that it has the same shape as a mue vector\n",
    "    #the np.dot(...) part calulates a covariance matrices, which in the end will be summed up\n",
    "    cov_c1 = 1/float(m_c1)*sum([np.dot(np.transpose(xsx[0][0]*\n",
    "                                                    (xsx[1][np.newaxis]-mue_c1)), \n",
    "                                       xsx[1][np.newaxis]-mue_c1) for xsx in zipped_points])\n",
    "    \n",
    "    cov_c2 = 1/float(m_c2)*sum([np.dot(np.transpose(xsx[0][1]*\n",
    "                                                    (xsx[1][np.newaxis]-mue_c2)), \n",
    "                                       xsx[1][np.newaxis]-mue_c2) for xsx in zipped_points])\n",
    "    \n",
    "    cov_c3 = 1/float(m_c3)*sum([np.dot(np.transpose(xsx[0][2]*\n",
    "                                                    (xsx[1][np.newaxis]-mue_c3)), \n",
    "                                       xsx[1][np.newaxis]-mue_c3) for xsx in zipped_points])\n",
    "    \n",
    "    return ([mue_c1, cov_c1, pi_c1],[mue_c2, cov_c2, pi_c2], [mue_c3, cov_c3, pi_c3]) "
   ]
  },
  {
   "cell_type": "code",
   "execution_count": 94,
   "metadata": {},
   "outputs": [
    {
     "data": {
      "text/plain": [
       "([array([[4.46519747, 1.61012591]]), array([[ 2.73672433,  4.17071749],\n",
       "         [ 4.17071749, 13.93652133]]), array([0.37720326])],\n",
       " [array([[2.54591374, 4.644163  ]]), array([[5.7912428 , 2.44734873],\n",
       "         [2.44734873, 2.45278805]]), array([0.35953311])],\n",
       " [array([[3.47857717, 2.33318955]]), array([[ 3.75128498,  1.39083043],\n",
       "         [ 1.39083043, 10.2563466 ]]), array([0.26326363])])"
      ]
     },
     "execution_count": 94,
     "metadata": {},
     "output_type": "execute_result"
    }
   ],
   "source": [
    "m_step(initial(), initial(), initial(), e_step(initial(),initial(),initial(), gauss_com), gauss_com)"
   ]
  },
  {
   "cell_type": "code",
   "execution_count": 95,
   "metadata": {},
   "outputs": [],
   "source": [
    "def expectation_maximization(dist_1, dist_2, dist_3, X):\n",
    "    print(dist_1)\n",
    "    print(dist_2)\n",
    "    print(dist_3)\n",
    "    for i in range(500):\n",
    "        r_ic = e_step(dist_1, dist_2, dist_3, X)\n",
    "        m_step_results = m_step(dist_1, dist_2, dist_3, r_ic, X)\n",
    "        dist_1 = m_step_results[0]\n",
    "        dist_2 = m_step_results[1]\n",
    "        dist_3 = m_step_results[2]\n",
    "    return (dist_1, dist_2, dist_3)"
   ]
  },
  {
   "cell_type": "code",
   "execution_count": 97,
   "metadata": {
    "scrolled": true
   },
   "outputs": [
    {
     "name": "stdout",
     "output_type": "stream",
     "text": [
      "[array([0.83631408, 0.56263108]), array([[1, 0],\n",
      "       [0, 1]]), array([0.87667509])]\n",
      "[array([0.80933303, 0.20371689]), array([[1, 0],\n",
      "       [0, 1]]), array([0.42482156])]\n",
      "[array([0.17014031, 0.60045806]), array([[1, 0],\n",
      "       [0, 1]]), array([0.53112551])]\n"
     ]
    },
    {
     "data": {
      "text/plain": [
       "([array([[6.0195547 , 5.99834104]]), array([[ 0.8893705 , -0.00897526],\n",
       "         [-0.00897526,  1.15423222]]), array([0.33295799])],\n",
       " [array([[ 3.51387455, -1.21880751]]), array([[0.09738416, 0.04188497],\n",
       "         [0.04188497, 2.98197241]]), array([0.33396841])],\n",
       " [array([[1.01367464, 3.90654406]]), array([[ 0.83898801, -0.00907864],\n",
       "         [-0.00907864,  0.19576453]]), array([0.3330736])])"
      ]
     },
     "execution_count": 97,
     "metadata": {},
     "output_type": "execute_result"
    }
   ],
   "source": [
    "expectation_maximization(initial(), initial(), initial(), gauss_com)"
   ]
  }
 ],
 "metadata": {
  "kernelspec": {
   "display_name": "Python 3",
   "language": "python",
   "name": "python3"
  },
  "language_info": {
   "codemirror_mode": {
    "name": "ipython",
    "version": 3
   },
   "file_extension": ".py",
   "mimetype": "text/x-python",
   "name": "python",
   "nbconvert_exporter": "python",
   "pygments_lexer": "ipython3",
   "version": "3.6.7"
  }
 },
 "nbformat": 4,
 "nbformat_minor": 2
}
