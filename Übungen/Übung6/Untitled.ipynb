{
 "cells": [
  {
   "cell_type": "markdown",
   "metadata": {},
   "source": [
    "# EXERCISE 6"
   ]
  },
  {
   "cell_type": "markdown",
   "metadata": {},
   "source": [
    "## 1. Mixture of Gaussians"
   ]
  },
  {
   "cell_type": "markdown",
   "metadata": {},
   "source": [
    "# Exercise solved by  Benjamin Ostendorf and Wajid Ghafoor "
   ]
  },
  {
   "cell_type": "markdown",
   "metadata": {},
   "source": [
    "(1) Define the parameters of 3 Gaussian distribution functions in two dimensions."
   ]
  },
  {
   "cell_type": "code",
   "execution_count": 51,
   "metadata": {},
   "outputs": [],
   "source": [
    "# imports needed for Exercise 6\n",
    "import numpy as np\n",
    "import math as m\n",
    "import random\n",
    "import matplotlib.pyplot as plt\n",
    "from matplotlib.patches import Ellipse"
   ]
  },
  {
   "cell_type": "code",
   "execution_count": 58,
   "metadata": {},
   "outputs": [],
   "source": [
    "# Not Important anymore, because a more sophisticted way is implemented!\n",
    "def bivariate_gauss(x, mu, covarianzmatrix):\n",
    "    a = (1/(m.sqrt((2* m.pi)**2)) * np.linalg.det(covarianzmatrix))\n",
    "    b = (m.e ** (np.matmul(np.matmul(-0.5*np.transpose(x-mu), np.linalg.inv(covarianzmatrix)),  x-mu)))\n",
    "    return a * b\n",
    "\n",
    "#bivariate_gauss(np.array([[100],[100]]), np.array([[2],[2]]), np.array([[1, 0],[0, 1]]))\n"
   ]
  },
  {
   "cell_type": "code",
   "execution_count": 5,
   "metadata": {},
   "outputs": [],
   "source": [
    "#create three clusters of points drawn from bivariate gaussians\n",
    "gauss_1 = np.random.multivariate_normal([6,6],[[1,0],[0,1]],100)\n",
    "gauss_2 = np.random.multivariate_normal([3.5,-1],[[0.1,0],[0,3]],100)\n",
    "gauss_3 = np.random.multivariate_normal([1,4],[[0.9,0],[0,0.2]],100)\n",
    "#concatenate the lists of points to one\n",
    "gauss_com = np.concatenate((gauss_1,gauss_2, gauss_3),axis=0)"
   ]
  },
  {
   "cell_type": "code",
   "execution_count": 6,
   "metadata": {},
   "outputs": [
    {
     "data": {
      "image/png": "[encoded data removed]",
      "text/plain": [
       "<Figure size 432x288 with 1 Axes>"
      ]
     },
     "metadata": {
      "needs_background": "light"
     },
     "output_type": "display_data"
    }
   ],
   "source": [
    "#spliting the points into x and y components\n",
    "gauss_1_x = gauss_1[:,0]\n",
    "gauss_1_y = gauss_1[:,1]\n",
    "gauss_2_x = gauss_2[:,0]\n",
    "gauss_2_y = gauss_2[:,1]\n",
    "gauss_3_x = gauss_3[:,0]\n",
    "gauss_3_y = gauss_3[:,1]\n",
    "\n",
    "#plotting each cluster with different color\n",
    "fig = plt.figure()\n",
    "ax = fig.add_subplot(1, 1, 1)\n",
    "ax.scatter(gauss_1_x, gauss_1_y, c=\"black\")\n",
    "ax.scatter(gauss_2_x, gauss_2_y, c=\"red\")\n",
    "ax.scatter(gauss_3_x, gauss_3_y, c=\"blue\")\n",
    "plt.show()"
   ]
  },
  {
   "cell_type": "code",
   "execution_count": 7,
   "metadata": {},
   "outputs": [],
   "source": [
    "import numpy as np\n",
    "import matplotlib.pyplot as plt\n",
    "from matplotlib import cm\n",
    "from mpl_toolkits.mplot3d import Axes3D\n",
    "\n",
    "# Our 2-dimensional distribution will be over variables X and Y\n",
    "N = 100\n",
    "X = gauss_1[:,0]\n",
    "Y = gauss_1[:,1]\n",
    "X, Y = np.meshgrid(X, Y)\n",
    "\n",
    "# Mean vector and covariance matrix\n",
    "mu = np.array([3., 4.])\n",
    "Sigma = np.array([[ 1. , 0.], [0.,  1.]])\n",
    "\n",
    "# Pack X and Y into a single 3-dimensional array\n",
    "pos = np.empty(X.shape + (2,))\n",
    "pos[:, :, 0] = X\n",
    "pos[:, :, 1] = Y\n",
    "\n",
    "def multivariate_gaussian(pos, mu, Sigma):\n",
    "    \"\"\"Return the multivariate Gaussian distribution on array pos.\"\"\"\n",
    "\n",
    "    n = mu.shape[0]\n",
    "    Sigma_det = np.linalg.det(Sigma)\n",
    "    Sigma_inv = np.linalg.inv(Sigma)\n",
    "    N = np.sqrt((2*np.pi)**n * Sigma_det)\n",
    "    # This einsum call calculates (x-mu)T.Sigma-1.(x-mu) in a vectorized\n",
    "    # way across all the input variables.\n",
    "    fac = np.einsum('...k,kl,...l->...', pos-mu, Sigma_inv, pos-mu)\n",
    "\n",
    "    return np.exp(-fac / 2) / N\n",
    "\n",
    "# The distribution on the variables X, Y packed into pos.\n",
    "Z = multivariate_gaussian(pos, mu, Sigma)"
   ]
  },
  {
   "cell_type": "code",
   "execution_count": 8,
   "metadata": {},
   "outputs": [
    {
     "data": {
      "text/plain": [
       "0.2905758415662736"
      ]
     },
     "execution_count": 8,
     "metadata": {},
     "output_type": "execute_result"
    }
   ],
   "source": [
    "# Calculate the probability of a point with the following\n",
    "multivariate_gaussian(np.array([3.5,-1]), np.array([3.5,-1]), np.array([[0.1,0],[0,3]]))"
   ]
  },
  {
   "cell_type": "code",
   "execution_count": 9,
   "metadata": {},
   "outputs": [],
   "source": [
    "#mue, covariance, pi\n",
    "#creates a intial distribution to use for expectation maximization\n",
    "def initial():\n",
    "    return [np.random.rand(2), np.array([[1,0],[0,1]]), np.random.rand(1)]"
   ]
  },
  {
   "cell_type": "code",
   "execution_count": 10,
   "metadata": {},
   "outputs": [],
   "source": [
    "#dist_1 to _3 are bivariate gaussians\n",
    "#X is a list of two dimensional points, which the gaussians should be fit to\n",
    "\n",
    "#returns a list of lists containing the likelyhood values of each x towards each gaussian\n",
    "def e_step(dist_1, dist_2, dist_3, X):\n",
    "    Xs = [[dist_1[2] * multivariate_gaussian(x, dist_1[0], dist_1[1]), \n",
    "           dist_2[2] * multivariate_gaussian(x, dist_2[0], dist_2[1]), \n",
    "           dist_3[2] * multivariate_gaussian(x, dist_3[0], dist_3[1])] for x in X]\n",
    "    return [[xs[0]/sum(xs), xs[1]/sum(xs), xs[2]/sum(xs)] for xs in Xs]\n",
    "\n",
    "#Xs is an numpy array of lists xs\n",
    "#xs = [dist_1_l, dist_2_l, dist_3_l] is a list of 3 elements, each of which correspond to the likelyhood value for the corresponding point\n",
    "#   to be drawn from the distribution\n",
    "def m_step(dist_1, dist_2, dist_3, Xs, X):\n",
    "    #for each gaussian parameters have to be adjusted\n",
    "    #m_c is a weight for a gaussian c\n",
    "    m_c1 = sum([xs[0] for xs in Xs])\n",
    "    m_c2 = sum([xs[1] for xs in Xs])\n",
    "    m_c3 = sum([xs[2] for xs in Xs])\n",
    "    \n",
    "    #m equals the number of trainingsdata\n",
    "    m = len(Xs)\n",
    "    \n",
    "    #pi_c is the normalized weight of a gaussian c\n",
    "    pi_c1 = m_c1/m\n",
    "    pi_c2 = m_c2/m\n",
    "    pi_c3 = m_c3/m\n",
    "    \n",
    "    zipped_points = list(zip(Xs, X))\n",
    "    \n",
    "    #mue_c is the adjusted mean vector for a gaussian c\n",
    "    #xsx = ([list of likelyhood values], point x)\n",
    "    mue_c1 = (1/float(m_c1)*sum([xsx[0][0]*xsx[1] for xsx in zipped_points]))[np.newaxis]\n",
    "    mue_c2 = (1/float(m_c2)*sum([xsx[0][1]*xsx[1] for xsx in zipped_points]))[np.newaxis]\n",
    "    mue_c3 = (1/float(m_c3)*sum([xsx[0][2]*xsx[1] for xsx in zipped_points]))[np.newaxis]\n",
    "    \n",
    "    #cov_c is the adjusted covariance matrix of a gaussian\n",
    "    #xsx[0] is the likelyhood list for one point x\n",
    "    #xsx[1] is the point x\n",
    "    #xsx[1][np.newaxis] makes the array two dimensional, for that it has the same shape as a mue vector\n",
    "    #the np.dot(...) part calulates a covariance matrices, which in the end will be summed up\n",
    "    cov_c1 = 1/float(m_c1)*sum([np.dot(np.transpose(xsx[0][0]*\n",
    "                                                    (xsx[1][np.newaxis]-mue_c1)), \n",
    "                                       xsx[1][np.newaxis]-mue_c1) for xsx in zipped_points])\n",
    "    \n",
    "    cov_c2 = 1/float(m_c2)*sum([np.dot(np.transpose(xsx[0][1]*\n",
    "                                                    (xsx[1][np.newaxis]-mue_c2)), \n",
    "                                       xsx[1][np.newaxis]-mue_c2) for xsx in zipped_points])\n",
    "    \n",
    "    cov_c3 = 1/float(m_c3)*sum([np.dot(np.transpose(xsx[0][2]*\n",
    "                                                    (xsx[1][np.newaxis]-mue_c3)), \n",
    "                                       xsx[1][np.newaxis]-mue_c3) for xsx in zipped_points])\n",
    "    \n",
    "    return ([mue_c1, cov_c1, pi_c1],[mue_c2, cov_c2, pi_c2], [mue_c3, cov_c3, pi_c3]) "
   ]
  },
  {
   "cell_type": "code",
   "execution_count": 11,
   "metadata": {},
   "outputs": [],
   "source": [
    "def expectation_maximization(dist_1, dist_2, dist_3, X):\n",
    "    for i in range(500):\n",
    "        r_ic = e_step(dist_1, dist_2, dist_3, X)\n",
    "        m_step_results = m_step(dist_1, dist_2, dist_3, r_ic, X)\n",
    "        dist_1 = m_step_results[0]\n",
    "        dist_2 = m_step_results[1]\n",
    "        dist_3 = m_step_results[2]\n",
    "    return (dist_1, dist_2, dist_3)"
   ]
  },
  {
   "cell_type": "code",
   "execution_count": 19,
   "metadata": {
    "scrolled": true
   },
   "outputs": [],
   "source": [
    "em = expectation_maximization(initial(), initial(), initial(), gauss_com)"
   ]
  },
  {
   "cell_type": "code",
   "execution_count": 23,
   "metadata": {},
   "outputs": [
    {
     "data": {
      "text/plain": [
       "([array([[5.85541012, 5.81626369]]), array([[0.98807032, 0.00959686],\n",
       "         [0.00959686, 0.86785281]]), array([0.33345344])],\n",
       " [array([[1.04914964, 4.04710132]]), array([[ 0.67043981, -0.01055142],\n",
       "         [-0.01055142,  0.25988909]]), array([0.3330946])],\n",
       " [array([[ 3.56756962, -0.7832351 ]]), array([[0.14975247, 0.06763706],\n",
       "         [0.06763706, 3.07501472]]), array([0.33345196])])"
      ]
     },
     "execution_count": 23,
     "metadata": {},
     "output_type": "execute_result"
    }
   ],
   "source": [
    "em"
   ]
  },
  {
   "cell_type": "markdown",
   "metadata": {},
   "source": [
    "The Plot for the EM Algorithmn!"
   ]
  },
  {
   "cell_type": "code",
   "execution_count": 57,
   "metadata": {},
   "outputs": [
    {
     "data": {
      "image/png": "[encoded data removed]",
      "text/plain": [
       "<Figure size 432x288 with 1 Axes>"
      ]
     },
     "metadata": {
      "needs_background": "light"
     },
     "output_type": "display_data"
    }
   ],
   "source": [
    "fig = plt.figure()\n",
    "ax = fig.add_subplot(1, 1, 1)\n",
    "ax.scatter(gauss_1_x, gauss_1_y, c=\"black\")\n",
    "ax.scatter(gauss_2_x, gauss_2_y, c=\"red\")\n",
    "ax.scatter(gauss_3_x, gauss_3_y, c=\"blue\")\n",
    "#plt.plot(centroids[:,0],centroids[:,1],'sg',markersize=15)\n",
    "cov = em[0][1]\n",
    "lambda_, v = np.linalg.eig(cov)\n",
    "lambda_ = np.sqrt(lambda_)\n",
    "\n",
    "for j in xrange(1, 4):\n",
    "    ell = Ellipse(xy=(em[0][0][0][0], em[0][0][0][1]),\n",
    "                  width=lambda_[0]*j*2, height=lambda_[1]*j*2,\n",
    "                  angle=np.rad2deg(np.arccos(em[0][2][0])))\n",
    "    ell.fill=False\n",
    "    ax.add_artist(ell)\n",
    "\n",
    "cov = em[1][1]\n",
    "lambda_, v = np.linalg.eig(cov)\n",
    "lambda_ = np.sqrt(lambda_)\n",
    "\n",
    "for j in xrange(1, 4):\n",
    "    ell = Ellipse(xy=(em[1][0][0][0], em[1][0][0][1]),\n",
    "                  width=lambda_[0]*j*2, height=lambda_[1]*j*2,\n",
    "                  angle=np.arccos(em[1][2][0]))\n",
    "    ell.fill=False\n",
    "    ax.add_artist(ell)\n",
    "    \n",
    "cov = em[2][1]\n",
    "lambda_, v = np.linalg.eig(cov)\n",
    "lambda_ = np.sqrt(lambda_)\n",
    "\n",
    "for j in xrange(1, 4):\n",
    "    ell = Ellipse(xy=(em[2][0][0][0], em[2][0][0][1]),\n",
    "                  width=lambda_[0]*j*2, height=lambda_[1]*j*2,\n",
    "                  angle=np.arccos(em[2][2][0]))\n",
    "    ell.fill=False\n",
    "    ax.add_artist(ell)\n",
    "\n",
    "plt.show()"
   ]
  },
  {
   "cell_type": "code",
   "execution_count": 15,
   "metadata": {},
   "outputs": [],
   "source": [
    "def assign_and_adjust(centroits, X):\n",
    "    #calculate the euclidean distance for one point with each centroit and select the argmin over the distance\n",
    "    #to determine the membership. The order is identical to the order of points in X\n",
    "    membership = [np.argmin(list(map(lambda centroit: np.linalg.norm(centroit-x), centroits))) for x in X]\n",
    "    #base values to calculate the new centroit point by averaging the assigned points values\n",
    "    centroit_mean = [[np.array([0,0]), 1] for centroit in centroits]\n",
    "    \n",
    "    for x_index in range(len(X)):\n",
    "        member_index = membership[x_index]\n",
    "        #update the running sum and quotient\n",
    "        centroit_mean[member_index][0] = centroit_mean[member_index][0] + X[x_index]\n",
    "        centroit_mean[member_index][1] += 1\n",
    "    #fix the adjustment of the centroits to the mean of their assigned points\n",
    "    centroits = np.array(list(map(lambda centroit: centroit[0]/centroit[1], centroit_mean)))\n",
    "    return (centroits, membership)\n",
    "\n",
    "def k_means(k, X, iterations=None):\n",
    "    #our initial centroits get choosen in respect to the points we want to cluster.\n",
    "    #therefore our centroits get drawn from a gaussian with mean of the mean over all points\n",
    "    #and the identity matrix as covariance matrix\n",
    "    point_mean = sum(X)/len(X)\n",
    "    centroits = np.random.multivariate_normal(point_mean,[[1,0],[0,1]],k)\n",
    "    membership = []\n",
    "    #the iteration can be removed, but for this exercise issue we use it\n",
    "    iterations = 100\n",
    "    #Either a certain number of iterations or a convergence criterium can be used\n",
    "    if iterations:\n",
    "        for i in range(iterations):\n",
    "            centroits, membership = assign_and_adjust(centroits, X)\n",
    "    else:\n",
    "        while(True):\n",
    "            centroit, membership_new = assign_and_adjust(centroits, X)\n",
    "            if membership == membership_new:\n",
    "                break\n",
    "            else:\n",
    "                membership = membership_new\n",
    "        \n",
    "            \n",
    "    return (centroits, membership)"
   ]
  },
  {
   "cell_type": "code",
   "execution_count": 16,
   "metadata": {},
   "outputs": [],
   "source": [
    "centroids, assignments = k_means(3, gauss_com)"
   ]
  },
  {
   "cell_type": "markdown",
   "metadata": {},
   "source": [
    "The Plot for the K-means Algorithmn !"
   ]
  },
  {
   "cell_type": "code",
   "execution_count": 17,
   "metadata": {},
   "outputs": [
    {
     "data": {
      "image/png": "[encoded data removed]",
      "text/plain": [
       "<Figure size 432x288 with 1 Axes>"
      ]
     },
     "metadata": {
      "needs_background": "light"
     },
     "output_type": "display_data"
    }
   ],
   "source": [
    "\n",
    "fig = plt.figure()\n",
    "ax = fig.add_subplot(1, 1, 1)\n",
    "ax.scatter(gauss_1_x, gauss_1_y, c=\"black\")\n",
    "ax.scatter(gauss_2_x, gauss_2_y, c=\"red\")\n",
    "ax.scatter(gauss_3_x, gauss_3_y, c=\"blue\")\n",
    "plt.plot(centroids[:,0],centroids[:,1],'sg',markersize=15)\n",
    "plt.show()"
   ]
  }
 ],
 "metadata": {
  "kernelspec": {
   "display_name": "Python 3",
   "language": "python",
   "name": "python3"
  },
  "language_info": {
   "codemirror_mode": {
    "name": "ipython",
    "version": 2
   },
   "file_extension": ".py",
   "mimetype": "text/x-python",
   "name": "python",
   "nbconvert_exporter": "python",
   "pygments_lexer": "ipython2",
   "version": "2.7.15rc1"
  }
 },
 "nbformat": 4,
 "nbformat_minor": 2
}
