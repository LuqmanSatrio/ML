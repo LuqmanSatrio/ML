{
 "cells": [
  {
   "cell_type": "markdown",
   "metadata": {},
   "source": [
    "# EXERCISE 6"
   ]
  },
  {
   "cell_type": "markdown",
   "metadata": {},
   "source": [
    "## 1. Mixture of Gaussians"
   ]
  },
  {
   "cell_type": "markdown",
   "metadata": {},
   "source": [
    "(1) Define the parameters of 3 Gaussian distribution functions in two dimensions."
   ]
  },
  {
   "cell_type": "code",
   "execution_count": 2,
   "metadata": {},
   "outputs": [],
   "source": [
    "# imports needed for Exercise 6\n",
    "import numpy as np\n",
    "import math as m\n",
    "import random\n",
    "import matplotlib.pyplot as plt"
   ]
  },
  {
   "cell_type": "code",
   "execution_count": 3,
   "metadata": {},
   "outputs": [],
   "source": [
    "import panda as pd"
   ]
  },
  {
   "cell_type": "code",
   "execution_count": 4,
   "metadata": {},
   "outputs": [
    {
     "data": {
      "text/plain": [
       "array([[0.]])"
      ]
     },
     "execution_count": 4,
     "metadata": {},
     "output_type": "execute_result"
    }
   ],
   "source": [
    "def bivariate_gauss(x, mu, covarianzmatrix):\n",
    "    a = (1/(m.sqrt((2* m.pi)**2)) * np.linalg.det(covarianzmatrix))\n",
    "    b = (m.e ** (np.matmul(np.matmul(-0.5*np.transpose(x-mu), np.linalg.inv(covarianzmatrix)),  x-mu)))\n",
    "    return a * b\n",
    "\n",
    "bivariate_gauss(np.array([[100],[100]]), np.array([[2],[2]]), np.array([[1, 0],[0, 1]]))\n"
   ]
  },
  {
   "cell_type": "code",
   "execution_count": 83,
   "metadata": {},
   "outputs": [],
   "source": [
    "gauss_1 = np.random.multivariate_normal([6,6],[[1,0],[0,1]],100)\n",
    "gauss_2 = np.random.multivariate_normal([3.5,-1],[[0.1,0],[0,3]],100)\n",
    "gauss_3 = np.random.multivariate_normal([1,4],[[0.9,0],[0,0.2]],100)\n",
    "gauss_com = np.concatenate((gauss_1,gauss_2, gauss_3),axis=0)\n"
   ]
  },
  {
   "cell_type": "code",
   "execution_count": 84,
   "metadata": {},
   "outputs": [
    {
     "data": {
      "text/plain": [
       "300"
      ]
     },
     "execution_count": 84,
     "metadata": {},
     "output_type": "execute_result"
    }
   ],
   "source": [
    "len(gauss_com)"
   ]
  },
  {
   "cell_type": "code",
   "execution_count": 25,
   "metadata": {},
   "outputs": [
    {
     "data": {
      "image/png": "[encoded data removed]",
      "text/plain": [
       "<Figure size 432x288 with 1 Axes>"
      ]
     },
     "metadata": {
      "needs_background": "light"
     },
     "output_type": "display_data"
    }
   ],
   "source": [
    "gauss_1_x = gauss_1[:,0]\n",
    "gauss_1_y = gauss_1[:,1]\n",
    "gauss_2_x = gauss_2[:,0]\n",
    "gauss_2_y = gauss_2[:,1]\n",
    "gauss_3_x = gauss_3[:,0]\n",
    "gauss_3_y = gauss_3[:,1]\n",
    "fig = plt.figure()\n",
    "ax = fig.add_subplot(1, 1, 1)\n",
    "ax.scatter(gauss_1_x, gauss_1_y, c=\"black\")\n",
    "ax.scatter(gauss_2_x, gauss_2_y, c=\"red\")\n",
    "ax.scatter(gauss_3_x, gauss_3_y, c=\"blue\")\n",
    "plt.show()"
   ]
  },
  {
   "cell_type": "code",
   "execution_count": 7,
   "metadata": {},
   "outputs": [
    {
     "data": {
      "image/png": "[encoded data removed]",
      "text/plain": [
       "<Figure size 432x288 with 2 Axes>"
      ]
     },
     "metadata": {},
     "output_type": "display_data"
    }
   ],
   "source": [
    "import numpy as np\n",
    "import matplotlib.pyplot as plt\n",
    "from matplotlib import cm\n",
    "from mpl_toolkits.mplot3d import Axes3D\n",
    "\n",
    "# Our 2-dimensional distribution will be over variables X and Y\n",
    "N = 100\n",
    "X = gauss_1[:,0]\n",
    "Y = gauss_1[:,1]\n",
    "X, Y = np.meshgrid(X, Y)\n",
    "\n",
    "# Mean vector and covariance matrix\n",
    "mu = np.array([3., 4.])\n",
    "Sigma = np.array([[ 1. , 0.], [0.,  1.]])\n",
    "\n",
    "# Pack X and Y into a single 3-dimensional array\n",
    "pos = np.empty(X.shape + (2,))\n",
    "pos[:, :, 0] = X\n",
    "pos[:, :, 1] = Y\n",
    "\n",
    "def multivariate_gaussian(pos, mu, Sigma):\n",
    "    \"\"\"Return the multivariate Gaussian distribution on array pos.\"\"\"\n",
    "\n",
    "    n = mu.shape[0]\n",
    "    Sigma_det = np.linalg.det(Sigma)\n",
    "    Sigma_inv = np.linalg.inv(Sigma)\n",
    "    N = np.sqrt((2*np.pi)**n * Sigma_det)\n",
    "    # This einsum call calculates (x-mu)T.Sigma-1.(x-mu) in a vectorized\n",
    "    # way across all the input variables.\n",
    "    fac = np.einsum('...k,kl,...l->...', pos-mu, Sigma_inv, pos-mu)\n",
    "\n",
    "    return np.exp(-fac / 2) / N\n",
    "\n",
    "# The distribution on the variables X, Y packed into pos.\n",
    "Z = multivariate_gaussian(pos, mu, Sigma)\n",
    "\n",
    "# plot using subplots\n",
    "fig = plt.figure()\n",
    "ax1 = fig.add_subplot(3,1,1,projection='3d')\n",
    "\n",
    "ax1.plot_surface(X, Y, Z, rstride=3, cstride=3, linewidth=1, antialiased=True,\n",
    "                cmap=cm.viridis)\n",
    "ax1.view_init(55,-70)\n",
    "ax1.set_xticks([])\n",
    "ax1.set_yticks([])\n",
    "ax1.set_zticks([])\n",
    "ax1.set_xlabel(r'$x_1$')\n",
    "ax1.set_ylabel(r'$x_2$')\n",
    "\n",
    "ax2 = fig.add_subplot(2,1,2,projection='3d')\n",
    "ax2.contourf(X, Y, Z, zdir='z', offset=0, cmap=cm.viridis)\n",
    "ax2.view_init(90, 270)\n",
    "\n",
    "ax2.grid(False)\n",
    "ax2.set_xticks([])\n",
    "ax2.set_yticks([])\n",
    "ax2.set_zticks([])\n",
    "ax2.set_xlabel(r'$x_1$')\n",
    "ax2.set_ylabel(r'$x_2$')\n",
    "\n",
    "plt.show()"
   ]
  },
  {
   "cell_type": "code",
   "execution_count": 27,
   "metadata": {},
   "outputs": [
    {
     "data": {
      "text/plain": [
       "0.2905758415662736"
      ]
     },
     "execution_count": 27,
     "metadata": {},
     "output_type": "execute_result"
    }
   ],
   "source": [
    "# Calculate the probability of a point with the following\n",
    "multivariate_gaussian(np.array([3.5,-1]), np.array([3.5,-1]), np.array([[0.1,0],[0,3]]))"
   ]
  },
  {
   "cell_type": "code",
   "execution_count": 40,
   "metadata": {},
   "outputs": [],
   "source": [
    "#mue, covariance, pi\n",
    "def initial():\n",
    "    return [np.random.rand(2), np.array([[1,0],[0,1]]), np.random.rand(1)]"
   ]
  },
  {
   "cell_type": "code",
   "execution_count": 75,
   "metadata": {},
   "outputs": [],
   "source": [
    "def e_step(dist_1, dist_2, dist_3, X):\n",
    "    Xs = [[dist_1[2] * multivariate_gaussian(x, dist_1[0], dist_1[1]), \n",
    "           dist_2[2] * multivariate_gaussian(x, dist_2[0], dist_2[1]), \n",
    "           dist_3[2] * multivariate_gaussian(x, dist_3[0], dist_3[1])] for x in X]\n",
    "    return [[xs[0]/sum(xs), xs[1]/sum(xs), xs[2]/sum(xs)] for xs in Xs]\n",
    "    "
   ]
  },
  {
   "cell_type": "code",
   "execution_count": 85,
   "metadata": {},
   "outputs": [
    {
     "data": {
      "text/plain": [
       "[[array([0.0007697]), array([0.99868548]), array([0.00054482])],\n",
       " [array([0.00188474]), array([0.99646859]), array([0.00164666])],\n",
       " [array([0.00500201]), array([0.99155197]), array([0.00344602])],\n",
       " [array([0.00314831]), array([0.9941454]), array([0.00270629])],\n",
       " [array([0.00226679]), array([0.9961562]), array([0.00157702])],\n",
       " [array([0.00272834]), array([0.99582555]), array([0.00144611])],\n",
       " [array([0.00606557]), array([0.99093284]), array([0.00300159])],\n",
       " [array([0.00068611]), array([0.99895943]), array([0.00035446])],\n",
       " [array([0.01022713]), array([0.98612374]), array([0.00364913])],\n",
       " [array([0.00289498]), array([0.99520366]), array([0.00190136])],\n",
       " [array([0.00533137]), array([0.99225611]), array([0.00241252])],\n",
       " [array([0.00181003]), array([0.99739542]), array([0.00079455])],\n",
       " [array([0.00226237]), array([0.99624744]), array([0.00149019])],\n",
       " [array([0.00216442]), array([0.99633565]), array([0.00149994])],\n",
       " [array([0.00371878]), array([0.99449798]), array([0.00178325])],\n",
       " [array([0.00100419]), array([0.99835768]), array([0.00063813])],\n",
       " [array([0.00187244]), array([0.99703428]), array([0.00109327])],\n",
       " [array([0.00337872]), array([0.99383007]), array([0.00279121])],\n",
       " [array([0.00566156]), array([0.99023463]), array([0.00410381])],\n",
       " [array([0.00241404]), array([0.99629015]), array([0.00129581])],\n",
       " [array([0.00305984]), array([0.99522394]), array([0.00171623])],\n",
       " [array([0.0022756]), array([0.99661554]), array([0.00110887])],\n",
       " [array([0.00283899]), array([0.99458212]), array([0.00257889])],\n",
       " [array([0.01097881]), array([0.98340746]), array([0.00561373])],\n",
       " [array([0.00699469]), array([0.98870873]), array([0.00429658])],\n",
       " [array([0.00145394]), array([0.99746236]), array([0.0010837])],\n",
       " [array([0.00173205]), array([0.99680809]), array([0.00145986])],\n",
       " [array([0.00219551]), array([0.99709715]), array([0.00070734])],\n",
       " [array([0.00722853]), array([0.98784558]), array([0.0049259])],\n",
       " [array([0.00374723]), array([0.99075873]), array([0.00549404])],\n",
       " [array([0.00737486]), array([0.98958886]), array([0.00303628])],\n",
       " [array([0.0009791]), array([0.99816391]), array([0.000857])],\n",
       " [array([0.00305666]), array([0.99315733]), array([0.00378601])],\n",
       " [array([0.00193718]), array([0.99647013]), array([0.00159269])],\n",
       " [array([0.00169342]), array([0.9971554]), array([0.00115118])],\n",
       " [array([0.00144565]), array([0.99749547]), array([0.00105888])],\n",
       " [array([0.00434397]), array([0.99192578]), array([0.00373026])],\n",
       " [array([0.00225185]), array([0.99683781]), array([0.00091033])],\n",
       " [array([0.002135]), array([0.99614064]), array([0.00172436])],\n",
       " [array([0.00322685]), array([0.99370405]), array([0.00306909])],\n",
       " [array([0.00333964]), array([0.99460519]), array([0.00205516])],\n",
       " [array([0.00124495]), array([0.99769266]), array([0.00106239])],\n",
       " [array([0.00563979]), array([0.99259606]), array([0.00176415])],\n",
       " [array([0.00212874]), array([0.99634942]), array([0.00152184])],\n",
       " [array([0.00338264]), array([0.99235716]), array([0.0042602])],\n",
       " [array([0.00505293]), array([0.99345511]), array([0.00149197])],\n",
       " [array([0.00179969]), array([0.99748917]), array([0.00071114])],\n",
       " [array([0.00268588]), array([0.99592187]), array([0.00139225])],\n",
       " [array([0.00352871]), array([0.99492893]), array([0.00154236])],\n",
       " [array([0.00226068]), array([0.99669506]), array([0.00104425])],\n",
       " [array([0.00411569]), array([0.99458794]), array([0.00129636])],\n",
       " [array([0.00363771]), array([0.99430335]), array([0.00205894])],\n",
       " [array([0.0025356]), array([0.9964278]), array([0.00103659])],\n",
       " [array([0.00189734]), array([0.99680619]), array([0.00129646])],\n",
       " [array([0.00443159]), array([0.99234763]), array([0.00322079])],\n",
       " [array([0.00285761]), array([0.99540682]), array([0.00173557])],\n",
       " [array([0.00347992]), array([0.99533338]), array([0.0011867])],\n",
       " [array([0.0017847]), array([0.99715868]), array([0.00105662])],\n",
       " [array([0.0021863]), array([0.99578641]), array([0.0020273])],\n",
       " [array([0.00114544]), array([0.99799187]), array([0.00086269])],\n",
       " [array([0.00417388]), array([0.99420397]), array([0.00162215])],\n",
       " [array([0.00701779]), array([0.9852977]), array([0.00768451])],\n",
       " [array([0.01576123]), array([0.97194052]), array([0.01229825])],\n",
       " [array([0.00137211]), array([0.99781876]), array([0.00080913])],\n",
       " [array([0.00658809]), array([0.98982968]), array([0.00358222])],\n",
       " [array([0.00050707]), array([0.99909488]), array([0.00039805])],\n",
       " [array([0.00201378]), array([0.99716041]), array([0.00082582])],\n",
       " [array([0.00197305]), array([0.99739581]), array([0.00063114])],\n",
       " [array([0.00200306]), array([0.99672734]), array([0.0012696])],\n",
       " [array([0.00148784]), array([0.99760693]), array([0.00090523])],\n",
       " [array([0.00311165]), array([0.99543744]), array([0.00145091])],\n",
       " [array([0.0025865]), array([0.99478746]), array([0.00262604])],\n",
       " [array([0.00283115]), array([0.99556699]), array([0.00160186])],\n",
       " [array([0.00725822]), array([0.98840804]), array([0.00433374])],\n",
       " [array([0.00379157]), array([0.99253907]), array([0.00366936])],\n",
       " [array([0.00268707]), array([0.99622436]), array([0.00108858])],\n",
       " [array([0.00235622]), array([0.99635903]), array([0.00128474])],\n",
       " [array([0.00698435]), array([0.9889873]), array([0.00402835])],\n",
       " [array([0.00223929]), array([0.99686527]), array([0.00089544])],\n",
       " [array([0.00298673]), array([0.99608472]), array([0.00092855])],\n",
       " [array([0.00109393]), array([0.99836604]), array([0.00054003])],\n",
       " [array([0.00100658]), array([0.99846857]), array([0.00052485])],\n",
       " [array([0.0020164]), array([0.99656467]), array([0.00141893])],\n",
       " [array([0.00275171]), array([0.99611093]), array([0.00113736])],\n",
       " [array([0.00866949]), array([0.98541606]), array([0.00591446])],\n",
       " [array([0.00253004]), array([0.99624984]), array([0.00122012])],\n",
       " [array([0.00078329]), array([0.99860924]), array([0.00060747])],\n",
       " [array([0.00520206]), array([0.99148179]), array([0.00331615])],\n",
       " [array([0.00131744]), array([0.99756314]), array([0.00111941])],\n",
       " [array([0.00303783]), array([0.99541536]), array([0.00154681])],\n",
       " [array([0.00089417]), array([0.99882753]), array([0.0002783])],\n",
       " [array([0.00219853]), array([0.99687794]), array([0.00092353])],\n",
       " [array([0.00085026]), array([0.99872416]), array([0.00042558])],\n",
       " [array([0.00349071]), array([0.99525109]), array([0.0012582])],\n",
       " [array([0.00083867]), array([0.99884041]), array([0.00032092])],\n",
       " [array([0.00159549]), array([0.99696155]), array([0.00144296])],\n",
       " [array([0.00526625]), array([0.99135714]), array([0.00337661])],\n",
       " [array([0.00342873]), array([0.99457196]), array([0.00199931])],\n",
       " [array([0.00243328]), array([0.99610688]), array([0.00145984])],\n",
       " [array([0.00227135]), array([0.99586131]), array([0.00186734])],\n",
       " [array([0.31022363]), array([0.64528799]), array([0.04448839])],\n",
       " [array([0.57561102]), array([0.38665003]), array([0.03773895])],\n",
       " [array([0.36704933]), array([0.5928227]), array([0.04012798])],\n",
       " [array([0.15910127]), array([0.81704045]), array([0.02385828])],\n",
       " [array([0.1696309]), array([0.8022234]), array([0.02814571])],\n",
       " [array([0.18052333]), array([0.78523438]), array([0.03424229])],\n",
       " [array([0.54358079]), array([0.41073927]), array([0.04567994])],\n",
       " [array([0.08304708]), array([0.88746282]), array([0.0294901])],\n",
       " [array([0.31227718]), array([0.65558448]), array([0.03213835])],\n",
       " [array([0.22244083]), array([0.73382363]), array([0.04373554])],\n",
       " [array([0.36399941]), array([0.59744819]), array([0.0385524])],\n",
       " [array([0.57613661]), array([0.38718285]), array([0.03668054])],\n",
       " [array([0.21065902]), array([0.75374959]), array([0.03559139])],\n",
       " [array([0.09658976]), array([0.87918683]), array([0.02422341])],\n",
       " [array([0.2717167]), array([0.68703612]), array([0.04124717])],\n",
       " [array([0.44721232]), array([0.50561535]), array([0.04717233])],\n",
       " [array([0.24593981]), array([0.71174445]), array([0.04231574])],\n",
       " [array([0.15114322]), array([0.81900956]), array([0.02984722])],\n",
       " [array([0.48834644]), array([0.4809455]), array([0.03070806])],\n",
       " [array([0.75767736]), array([0.20975256]), array([0.03257007])],\n",
       " [array([0.1679524]), array([0.80200978]), array([0.03003782])],\n",
       " [array([0.30560526]), array([0.649594]), array([0.04480075])],\n",
       " [array([0.36558012]), array([0.60175244]), array([0.03266744])],\n",
       " [array([0.50896566]), array([0.4601679]), array([0.03086644])],\n",
       " [array([0.1475888]), array([0.81498499]), array([0.03742621])],\n",
       " [array([0.43664174]), array([0.52877035]), array([0.03458791])],\n",
       " [array([0.1461164]), array([0.82576945]), array([0.02811415])],\n",
       " [array([0.14647202]), array([0.81754495]), array([0.03598303])],\n",
       " [array([0.38670273]), array([0.57396209]), array([0.03933519])],\n",
       " [array([0.21652887]), array([0.74772039]), array([0.03575073])],\n",
       " [array([0.17307402]), array([0.78993776]), array([0.03698822])],\n",
       " [array([0.61395346]), array([0.34216564]), array([0.04388089])],\n",
       " [array([0.1781075]), array([0.79177503]), array([0.03011747])],\n",
       " [array([0.64165032]), array([0.32227006]), array([0.03607962])],\n",
       " [array([0.22102838]), array([0.75268377]), array([0.02628785])],\n",
       " [array([0.19343354]), array([0.77694115]), array([0.02962531])],\n",
       " [array([0.27016262]), array([0.69884424]), array([0.03099314])],\n",
       " [array([0.3517902]), array([0.61411893]), array([0.03409087])],\n",
       " [array([0.49238836]), array([0.45944041]), array([0.04817124])],\n",
       " [array([0.41156765]), array([0.53920666]), array([0.04922569])],\n",
       " [array([0.17030739]), array([0.7975764]), array([0.03211621])],\n",
       " [array([0.16065767]), array([0.81328456]), array([0.02605778])],\n",
       " [array([0.1324446]), array([0.83506877]), array([0.03248663])],\n",
       " [array([0.04003472]), array([0.94239191]), array([0.01757336])],\n",
       " [array([0.09666967]), array([0.88081637]), array([0.02251396])],\n",
       " [array([0.46688777]), array([0.49319399]), array([0.03991824])],\n",
       " [array([0.3301819]), array([0.62771282]), array([0.04210528])],\n",
       " [array([0.42828585]), array([0.53130097]), array([0.04041318])],\n",
       " [array([0.22172767]), array([0.75161116]), array([0.02666117])],\n",
       " [array([0.0725422]), array([0.91165789]), array([0.01579991])],\n",
       " [array([0.45329753]), array([0.50025955]), array([0.04644292])],\n",
       " [array([0.19041462]), array([0.77385784]), array([0.03572754])],\n",
       " [array([0.24283926]), array([0.71761802]), array([0.03954272])],\n",
       " [array([0.05393634]), array([0.92768853]), array([0.01837513])],\n",
       " [array([0.15157206]), array([0.81773694]), array([0.03069099])],\n",
       " [array([0.2431043]), array([0.72023846]), array([0.03665723])],\n",
       " [array([0.23859234]), array([0.73124782]), array([0.03015984])],\n",
       " [array([0.20092702]), array([0.76851863]), array([0.03055435])],\n",
       " [array([0.06238394]), array([0.91816697]), array([0.01944909])],\n",
       " [array([0.38546518]), array([0.58102314]), array([0.03351168])],\n",
       " [array([0.28847026]), array([0.67720568]), array([0.03432406])],\n",
       " [array([0.19459032]), array([0.75564924]), array([0.04976044])],\n",
       " [array([0.22255132]), array([0.74099011]), array([0.03645858])],\n",
       " [array([0.43573021]), array([0.52886811]), array([0.03540168])],\n",
       " [array([0.52019205]), array([0.4430889]), array([0.03671905])],\n",
       " [array([0.18393742]), array([0.78357389]), array([0.03248869])],\n",
       " [array([0.22506534]), array([0.73741605]), array([0.03751861])],\n",
       " [array([0.25077117]), array([0.71112731]), array([0.03810152])],\n",
       " [array([0.16184918]), array([0.80731096]), array([0.03083986])],\n",
       " [array([0.60023168]), array([0.36305878]), array([0.03670955])],\n",
       " [array([0.24118092]), array([0.7232267]), array([0.03559238])],\n",
       " [array([0.2239246]), array([0.73400863]), array([0.04206677])],\n",
       " [array([0.69537635]), array([0.2683773]), array([0.03624635])],\n",
       " [array([0.18931577]), array([0.77794293]), array([0.0327413])],\n",
       " [array([0.27852892]), array([0.6858621]), array([0.03560898])],\n",
       " [array([0.15029988]), array([0.82855515]), array([0.02114497])],\n",
       " [array([0.19699523]), array([0.7702361]), array([0.03276867])],\n",
       " [array([0.24682418]), array([0.71142161]), array([0.04175421])],\n",
       " [array([0.28620648]), array([0.67613511]), array([0.03765841])],\n",
       " [array([0.16824025]), array([0.79947233]), array([0.03228742])],\n",
       " [array([0.63143941]), array([0.33399564]), array([0.03456495])],\n",
       " [array([0.37191709]), array([0.58718448]), array([0.04089843])],\n",
       " [array([0.69835447]), array([0.26068188]), array([0.04096365])],\n",
       " [array([0.09512653]), array([0.87615244]), array([0.02872103])],\n",
       " [array([0.11577521]), array([0.86460769]), array([0.0196171])],\n",
       " [array([0.34859602]), array([0.60751338]), array([0.0438906])],\n",
       " [array([0.09906823]), array([0.87792639]), array([0.02300539])],\n",
       " [array([0.16224766]), array([0.80799254]), array([0.02975981])],\n",
       " [array([0.26732454]), array([0.69375189]), array([0.03892357])],\n",
       " [array([0.42962998]), array([0.52906862]), array([0.0413014])],\n",
       " [array([0.13516737]), array([0.83844845]), array([0.02638418])],\n",
       " [array([0.29690054]), array([0.67171917]), array([0.03138029])],\n",
       " [array([0.4778879]), array([0.48758841]), array([0.03452369])],\n",
       " [array([0.23890837]), array([0.72216208]), array([0.03892955])],\n",
       " [array([0.68248789]), array([0.28169715]), array([0.03581496])],\n",
       " [array([0.14356131]), array([0.82587886]), array([0.03055983])],\n",
       " [array([0.11153176]), array([0.8610528]), array([0.02741543])],\n",
       " [array([0.09705248]), array([0.87511016]), array([0.02783735])],\n",
       " [array([0.22021519]), array([0.74931554]), array([0.03046927])],\n",
       " [array([0.28923869]), array([0.66915591]), array([0.0416054])],\n",
       " [array([0.07684117]), array([0.84019102]), array([0.08296781])],\n",
       " [array([0.04240307]), array([0.9252486]), array([0.03234833])],\n",
       " [array([0.04987464]), array([0.92274045]), array([0.02738492])],\n",
       " [array([0.12679056]), array([0.64999165]), array([0.22321779])],\n",
       " [array([0.06025821]), array([0.88880447]), array([0.05093732])],\n",
       " [array([0.0669394]), array([0.85833496]), array([0.07472564])],\n",
       " [array([0.09495153]), array([0.79239947]), array([0.11264901])],\n",
       " [array([0.03761509]), array([0.93711837]), array([0.02526654])],\n",
       " [array([0.07716979]), array([0.86279579]), array([0.06003443])],\n",
       " [array([0.0627202]), array([0.86564232]), array([0.07163748])],\n",
       " [array([0.06102459]), array([0.87042052]), array([0.06855489])],\n",
       " [array([0.02922447]), array([0.94519554]), array([0.02558])],\n",
       " [array([0.11182887]), array([0.62192614]), array([0.26624499])],\n",
       " [array([0.04854042]), array([0.9032091]), array([0.04825048])],\n",
       " [array([0.07016487]), array([0.86616725]), array([0.06366789])],\n",
       " [array([0.06565311]), array([0.86331806]), array([0.07102884])],\n",
       " [array([0.08594269]), array([0.84649475]), array([0.06756256])],\n",
       " [array([0.06239622]), array([0.86835253]), array([0.06925124])],\n",
       " [array([0.06409223]), array([0.86640312]), array([0.06950466])],\n",
       " [array([0.10758045]), array([0.75729896]), array([0.13512058])],\n",
       " [array([0.03649075]), array([0.94031137]), array([0.02319788])],\n",
       " [array([0.07225388]), array([0.85882768]), array([0.06891844])],\n",
       " [array([0.13213917]), array([0.65148638]), array([0.21637445])],\n",
       " [array([0.08182684]), array([0.80286918]), array([0.11530397])],\n",
       " [array([0.04298483]), array([0.91716586]), array([0.03984932])],\n",
       " [array([0.05528767]), array([0.89867528]), array([0.04603705])],\n",
       " [array([0.09878834]), array([0.77551692]), array([0.12569473])],\n",
       " [array([0.05138598]), array([0.90424668]), array([0.04436734])],\n",
       " [array([0.03053958]), array([0.94222927]), array([0.02723115])],\n",
       " [array([0.02838627]), array([0.94455057]), array([0.02706316])],\n",
       " [array([0.0450519]), array([0.91766837]), array([0.03727974])],\n",
       " [array([0.11026717]), array([0.65570512]), array([0.23402771])],\n",
       " [array([0.08937896]), array([0.8086997]), array([0.10192134])],\n",
       " [array([0.14352218]), array([0.67499389]), array([0.18148393])],\n",
       " [array([0.04762947]), array([0.9120542]), array([0.04031633])],\n",
       " [array([0.03160214]), array([0.95158463]), array([0.01681323])],\n",
       " [array([0.0718154]), array([0.86216002]), array([0.06602459])],\n",
       " [array([0.0921555]), array([0.82137598]), array([0.08646852])],\n",
       " [array([0.0457371]), array([0.9136521]), array([0.0406108])],\n",
       " [array([0.06190222]), array([0.85282867]), array([0.0852691])],\n",
       " [array([0.08080108]), array([0.85229071]), array([0.06690821])],\n",
       " [array([0.05793727]), array([0.8856423]), array([0.05642044])],\n",
       " [array([0.07573361]), array([0.85919859]), array([0.0650678])],\n",
       " [array([0.05326484]), array([0.89534735]), array([0.05138781])],\n",
       " [array([0.05396497]), array([0.89491019]), array([0.05112484])],\n",
       " [array([0.1056344]), array([0.81196721]), array([0.08239839])],\n",
       " [array([0.04888545]), array([0.91802959]), array([0.03308496])],\n",
       " [array([0.06277142]), array([0.88094771]), array([0.05628087])],\n",
       " [array([0.07010058]), array([0.87663385]), array([0.05326557])],\n",
       " [array([0.04544592]), array([0.92132412]), array([0.03322996])],\n",
       " [array([0.08801054]), array([0.81785066]), array([0.0941388])],\n",
       " [array([0.04233653]), array([0.92256711]), array([0.03509636])],\n",
       " [array([0.10664468]), array([0.7787291]), array([0.11462622])],\n",
       " [array([0.20138132]), array([0.46377424]), array([0.33484444])],\n",
       " [array([0.13227771]), array([0.65605123]), array([0.21167106])],\n",
       " [array([0.03712977]), array([0.92399501]), array([0.03887522])],\n",
       " [array([0.05535156]), array([0.87912122]), array([0.06552723])],\n",
       " [array([0.08462236]), array([0.83027035]), array([0.08510729])],\n",
       " [array([0.04126147]), array([0.92737101]), array([0.03136752])],\n",
       " [array([0.04434414]), array([0.91700425]), array([0.03865161])],\n",
       " [array([0.08369331]), array([0.84538346]), array([0.07092323])],\n",
       " [array([0.03308921]), array([0.94083585]), array([0.02607494])],\n",
       " [array([0.088574]), array([0.81007941]), array([0.10134659])],\n",
       " [array([0.05649089]), array([0.90510208]), array([0.03840703])],\n",
       " [array([0.04492462]), array([0.89634525]), array([0.05873014])],\n",
       " [array([0.05027848]), array([0.876984]), array([0.07273752])],\n",
       " [array([0.05967236]), array([0.90313234]), array([0.0371953])],\n",
       " [array([0.04596973]), array([0.91675944]), array([0.03727083])],\n",
       " [array([0.12330396]), array([0.71731721]), array([0.15937883])],\n",
       " [array([0.04833933]), array([0.8957267]), array([0.05593397])],\n",
       " [array([0.05179266]), array([0.9053486]), array([0.04285874])],\n",
       " [array([0.07276845]), array([0.75318618]), array([0.17404538])],\n",
       " [array([0.06713445]), array([0.86678152]), array([0.06608403])],\n",
       " [array([0.13660835]), array([0.63069888]), array([0.23269277])],\n",
       " [array([0.06255209]), array([0.85796906]), array([0.07947885])],\n",
       " [array([0.08047363]), array([0.83379257]), array([0.0857338])],\n",
       " [array([0.08686917]), array([0.75776438]), array([0.15536646])],\n",
       " [array([0.05985706]), array([0.89498525]), array([0.04515769])],\n",
       " [array([0.09227841]), array([0.78891981]), array([0.11880179])],\n",
       " [array([0.13490637]), array([0.73505558]), array([0.13003805])],\n",
       " [array([0.05175782]), array([0.87913719]), array([0.069105])],\n",
       " [array([0.03223371]), array([0.94757962]), array([0.02018667])],\n",
       " [array([0.04230737]), array([0.93119142]), array([0.02650121])],\n",
       " [array([0.03056183]), array([0.93077355]), array([0.03866462])],\n",
       " [array([0.06219853]), array([0.85999144]), array([0.07781003])],\n",
       " [array([0.07849052]), array([0.82135181]), array([0.10015767])],\n",
       " [array([0.02322372]), array([0.95419389]), array([0.0225824])],\n",
       " [array([0.09578448]), array([0.79862631]), array([0.10558921])],\n",
       " [array([0.05127693]), array([0.88283214]), array([0.06589093])],\n",
       " [array([0.06122671]), array([0.89705692]), array([0.04171638])],\n",
       " [array([0.06968838]), array([0.85233609]), array([0.07797553])],\n",
       " [array([0.04820438]), array([0.88879687]), array([0.06299875])],\n",
       " [array([0.06134077]), array([0.89703887]), array([0.04162036])],\n",
       " [array([0.04275801]), array([0.9261103]), array([0.03113168])],\n",
       " [array([0.04242562]), array([0.92219031]), array([0.03538407])],\n",
       " [array([0.08578841]), array([0.79995584]), array([0.11425575])],\n",
       " [array([0.08670442]), array([0.82795404]), array([0.08534154])],\n",
       " [array([0.04030085]), array([0.93295709]), array([0.02674206])],\n",
       " [array([0.10645492]), array([0.77135435]), array([0.12219074])],\n",
       " [array([0.11203866]), array([0.75357339]), array([0.13438795])]]"
      ]
     },
     "execution_count": 85,
     "metadata": {},
     "output_type": "execute_result"
    }
   ],
   "source": [
    "e_step(initial(),initial(),initial(), gauss_com)"
   ]
  },
  {
   "cell_type": "code",
   "execution_count": 65,
   "metadata": {},
   "outputs": [],
   "source": [
    "def bla_step(mue_1, cov_1, pi_1, mue_2, cov_2, pi_2, mue_3, cov_3, pi_3):\n",
    "    return mue_1, cov_1, pi_1, mue_2, cov_2, pi_2, mue_3, cov_3, pi_3"
   ]
  },
  {
   "cell_type": "code",
   "execution_count": 74,
   "metadata": {},
   "outputs": [
    {
     "ename": "SyntaxError",
     "evalue": "only named arguments may follow *expression (<ipython-input-74-beb3acf15e2a>, line 1)",
     "output_type": "error",
     "traceback": [
      "\u001b[0;36m  File \u001b[0;32m\"<ipython-input-74-beb3acf15e2a>\"\u001b[0;36m, line \u001b[0;32m1\u001b[0m\n\u001b[0;31m    bla_step(*initial(),initial())\u001b[0m\n\u001b[0;31mSyntaxError\u001b[0m\u001b[0;31m:\u001b[0m only named arguments may follow *expression\n"
     ]
    }
   ],
   "source": [
    "bla_step(*initial(),initial())"
   ]
  },
  {
   "cell_type": "code",
   "execution_count": null,
   "metadata": {},
   "outputs": [],
   "source": []
  }
 ],
 "metadata": {
  "kernelspec": {
   "display_name": "Python 3",
   "language": "python",
   "name": "python3"
  },
  "language_info": {
   "codemirror_mode": {
    "name": "ipython",
    "version": 2
   },
   "file_extension": ".py",
   "mimetype": "text/x-python",
   "name": "python",
   "nbconvert_exporter": "python",
   "pygments_lexer": "ipython2",
   "version": "2.7.15rc1"
  }
 },
 "nbformat": 4,
 "nbformat_minor": 2
}
