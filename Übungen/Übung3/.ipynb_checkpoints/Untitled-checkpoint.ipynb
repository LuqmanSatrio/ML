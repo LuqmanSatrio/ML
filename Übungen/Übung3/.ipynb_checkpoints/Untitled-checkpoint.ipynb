{
 "cells": [
  {
   "cell_type": "code",
   "execution_count": 322,
   "metadata": {},
   "outputs": [],
   "source": [
    "from PIL import Image, ImageColor\n",
    "import numpy as np\n",
    "from PIL import ImageFilter\n",
    "import math as m"
   ]
  },
  {
   "cell_type": "code",
   "execution_count": 176,
   "metadata": {},
   "outputs": [],
   "source": [
    "# Show one image\n",
    "im = Image.open(\"positives/p01.png\")\n",
    "im.show()"
   ]
  },
  {
   "cell_type": "code",
   "execution_count": 174,
   "metadata": {},
   "outputs": [],
   "source": [
    "def extrema_red(image):\n",
    "    return image.getextrema()[0][0]\n",
    "def extrema_green(image):\n",
    "    return image.getextrema()[1][0]\n",
    "def variance_red(image):\n",
    "    return np.var(image.split()[0])\n",
    "def variance_green(image):\n",
    "    return np.var(image.split()[1])\n",
    "def mean_blue(image):\n",
    "    return np.mean(image.split()[2])"
   ]
  },
  {
   "cell_type": "code",
   "execution_count": 329,
   "metadata": {},
   "outputs": [],
   "source": [
    "def create_feature(image):\n",
    "    er = extrema_red(image)\n",
    "    eg = extrema_green(image)\n",
    "    vr = variance_red(image)\n",
    "    vg = variance_green(image)\n",
    "    mb = mean_blue(image)\n",
    "    return [er,eg,vr,vg,mb]\n",
    "            "
   ]
  },
  {
   "cell_type": "code",
   "execution_count": 330,
   "metadata": {},
   "outputs": [
    {
     "data": {
      "text/plain": [
       "[110, 60, 135.73418209876544, 333.5198567708333, 150.64236111111111]"
      ]
     },
     "execution_count": 330,
     "metadata": {},
     "output_type": "execute_result"
    }
   ],
   "source": [
    "create_feature(Image.open(\"positives/p01.png\"))"
   ]
  },
  {
   "cell_type": "code",
   "execution_count": 168,
   "metadata": {},
   "outputs": [],
   "source": [
    "def create_feature_positives():\n",
    "    positives = []\n",
    "    for i in range(1,31):\n",
    "        if i < 10:\n",
    "            im_pos = Image.open(\"positives/p0\" + str(i) + \".png\")\n",
    "            er = extrema_red(im_pos)\n",
    "            eg = extrema_green(im_pos)\n",
    "            vr = variance_red(im_pos)\n",
    "            vg = variance_green(im_pos)\n",
    "            mb = mean_blue(im_pos)\n",
    "            positives.append([er,eg,vr,vg,mb])\n",
    "        else: \n",
    "            im_pos = Image.open(\"positives/p\" + str(i) + \".png\")\n",
    "            er = extrema_red(im_pos)\n",
    "            eg = extrema_green(im_pos)\n",
    "            vr = variance_red(im_pos)\n",
    "            vg = variance_green(im_pos)\n",
    "            mb = mean_blue(im_pos)\n",
    "            positives.append([er,eg,vr,vg,mb])\n",
    "    return positives\n",
    "\n",
    "def create_feature_negatives():\n",
    "    negatives = []\n",
    "    for i in range(1,31):\n",
    "        if i < 10:\n",
    "            im_neg = Image.open(\"negatives/n0\" + str(i) + \".png\")\n",
    "            er = extrema_red(im_neg)\n",
    "            eg = extrema_green(im_neg)\n",
    "            vr = variance_red(im_neg)\n",
    "            vg = variance_green(im_neg)\n",
    "            mb = mean_blue(im_neg)\n",
    "            negatives.append([er,eg,vr,vg,mb])\n",
    "        else: \n",
    "            im_neg = Image.open(\"negatives/n\" + str(i) + \".png\")\n",
    "            er = extrema_red(im_neg)\n",
    "            eg = extrema_green(im_neg)\n",
    "            vr = variance_red(im_neg)\n",
    "            vg = variance_green(im_neg)\n",
    "            mb = mean_blue(im_neg)\n",
    "            negatives.append([er,eg,vr,vg,mb])\n",
    "    return negatives\n",
    "    \n",
    "    \n",
    "    "
   ]
  },
  {
   "cell_type": "code",
   "execution_count": 177,
   "metadata": {},
   "outputs": [],
   "source": [
    "positive_features = create_feature_positives()\n",
    "negative_features = create_feature_negatives()"
   ]
  },
  {
   "cell_type": "code",
   "execution_count": 192,
   "metadata": {},
   "outputs": [],
   "source": [
    "def phi(positive_features, negative_features):\n",
    "    return float(len(positive_features)) / float((len(negative_features)+len(positive_features)))\n",
    "    "
   ]
  },
  {
   "cell_type": "code",
   "execution_count": 221,
   "metadata": {},
   "outputs": [],
   "source": [
    "def mue(features):\n",
    "    sum_of_features = reduce(lambda a,b: [x+y for x,y in zip(a,b)], features)\n",
    "    return list(map(lambda x: float(x/len(features)), sum_of_features))\n",
    "    "
   ]
  },
  {
   "cell_type": "code",
   "execution_count": 222,
   "metadata": {},
   "outputs": [
    {
     "data": {
      "text/plain": [
       "[139.0, 102.0, 95.88454208060057, 119.76321473926183, 127.34149305555553]"
      ]
     },
     "execution_count": 222,
     "metadata": {},
     "output_type": "execute_result"
    }
   ],
   "source": [
    "mue(negative_features)"
   ]
  },
  {
   "cell_type": "code",
   "execution_count": 320,
   "metadata": {},
   "outputs": [],
   "source": [
    "def covariance_matrix(positive_features,negative_features):\n",
    "    mue0 = mue(negative_features)\n",
    "    number_of_features = len(negative_features[0])\n",
    "    neg_mat_list = list(map(lambda x: np.matmul(np.reshape([a-b for a,b in zip(x, mue0)],  (number_of_features, 1)), np.reshape([n-m for n,m in zip(x, mue0)], (1, (number_of_features)))), negative_features))\n",
    "    \n",
    "    mue1 = mue(positive_features)\n",
    "    pos_mat_list = list(map(lambda x: np.matmul(np.reshape([a-b for a,b in zip(x, mue1)],  (number_of_features, 1)), np.reshape([n-m for n,m in zip(x, mue1)], (1, (number_of_features)))), positive_features))\n",
    "    \n",
    "    mat_list = np.append(neg_mat_list, pos_mat_list, axis=0)\n",
    "    #print(mat_list)\n",
    "    cov_mat = mat_list[0]\n",
    "    for i in range(1,len(mat_list)):\n",
    "        cov_mat = np.add(cov_mat,mat_list[i])\n",
    "    \n",
    "    return np.multiply(cov_mat,float(1.0/float(len(mat_list))))"
   ]
  },
  {
   "cell_type": "code",
   "execution_count": 321,
   "metadata": {},
   "outputs": [
    {
     "data": {
      "text/plain": [
       "array([[  283.        ,   170.63333333,  -865.56845568,  -560.26400551,\n",
       "          104.79792438],\n",
       "       [  170.63333333,   221.41666667,  -770.29067309,  -892.24168298,\n",
       "          113.03316069],\n",
       "       [ -865.56845568,  -770.29067309, 12142.73956911, 13998.58068877,\n",
       "         -167.62877376],\n",
       "       [ -560.26400551,  -892.24168298, 13998.58068877, 24005.61609413,\n",
       "          171.54651142],\n",
       "       [  104.79792438,   113.03316069,  -167.62877376,   171.54651142,\n",
       "          130.96070379]])"
      ]
     },
     "execution_count": 321,
     "metadata": {},
     "output_type": "execute_result"
    }
   ],
   "source": [
    "covariance_matrix(positive_features, negative_features)\n"
   ]
  },
  {
   "cell_type": "code",
   "execution_count": 319,
   "metadata": {},
   "outputs": [
    {
     "data": {
      "text/plain": [
       "array([[0.5, 1. , 1.5],\n",
       "       [1. , 1. , 1. ]])"
      ]
     },
     "execution_count": 319,
     "metadata": {},
     "output_type": "execute_result"
    }
   ],
   "source": [
    "np.multiply([[1,2,3],[2,2,2]], [0.5])"
   ]
  },
  {
   "cell_type": "code",
   "execution_count": 308,
   "metadata": {},
   "outputs": [
    {
     "data": {
      "text/plain": [
       "array([0.], dtype=float128)"
      ]
     },
     "execution_count": 308,
     "metadata": {},
     "output_type": "execute_result"
    }
   ],
   "source": [
    "np.float128([1/60])"
   ]
  },
  {
   "cell_type": "code",
   "execution_count": 259,
   "metadata": {},
   "outputs": [
    {
     "data": {
      "text/plain": [
       "array([[  81.        ,   99.        ,  623.24386484,  791.51227033,\n",
       "         131.0890625 ],\n",
       "       [  99.        ,  121.        ,  761.74250147,  967.40388596,\n",
       "         160.21996528],\n",
       "       [ 623.24386484,  761.74250147, 4795.46808712, 6090.1872398 ,\n",
       "        1008.64757963],\n",
       "       [ 791.51227033,  967.40388596, 6090.1872398 , 7734.46511208,\n",
       "        1280.97038857],\n",
       "       [ 131.0890625 ,  160.21996528, 1008.64757963, 1280.97038857,\n",
       "         212.15237416]])"
      ]
     },
     "execution_count": 259,
     "metadata": {},
     "output_type": "execute_result"
    }
   ],
   "source": [
    "#a = covariance_matrix(positive_features,negative_features)\n",
    "n = np.reshape([a-b for a,b in zip(negative_features[0], mue(negative_features))],  (5, 1))\n",
    "m = np.reshape([a-b for a,b in zip(negative_features[0], mue(negative_features))], (1,5))\n",
    "np.matmul(n,m)"
   ]
  },
  {
   "cell_type": "code",
   "execution_count": 134,
   "metadata": {},
   "outputs": [],
   "source": [
    "im = Image.open(\"positives/p01.png\")"
   ]
  },
  {
   "cell_type": "code",
   "execution_count": 202,
   "metadata": {},
   "outputs": [
    {
     "data": {
      "text/plain": [
       "[2722, 1415, 11630.427704234184, 18914.63883162133, 4287.522569444445]"
      ]
     },
     "execution_count": 202,
     "metadata": {},
     "output_type": "execute_result"
    }
   ],
   "source": [
    "reduce(lambda a,b: [x+y for x,y in zip(a,b)], positive_features)"
   ]
  },
  {
   "cell_type": "code",
   "execution_count": 232,
   "metadata": {},
   "outputs": [
    {
     "data": {
      "text/plain": [
       "array([[130.        ],\n",
       "       [ 91.        ],\n",
       "       [ 26.63522377],\n",
       "       [ 31.81740693],\n",
       "       [112.77604167]])"
      ]
     },
     "execution_count": 232,
     "metadata": {},
     "output_type": "execute_result"
    }
   ],
   "source": [
    "np.reshape(negative_features[0],(len(negative_features[0]),1))\n",
    "[a-b for a,b in zip(x, mue0)]"
   ]
  },
  {
   "cell_type": "code",
   "execution_count": 335,
   "metadata": {},
   "outputs": [],
   "source": [
    "def predict(image,positive_features,negative_features):\n",
    "    n = len(positive_features)+ len(negative_features)\n",
    "    phi = phi(positive_features,negative_features)\n",
    "    mue_0 = mue(negative_features)\n",
    "    mue_1 = mue(positive_features)\n",
    "    cov_mat = covariance_matrix(positive_features, negative_features)\n",
    "    image_features = create_feature(image)\n",
    "    f_len = len(image_features)\n",
    "    function_prefix = 1.0/((2.0*m.pi)**float(n/2.0)*np.linalg.det(cov_mat)**float(1.0/2.0))\n",
    "    in_cov_mat = np.linalg.inv(cov_mat)\n",
    "    f_diff_0 = [x+y for x,y in zip(image-features,mue0)]\n",
    "    px_0 = function_prefix*e**(np.matmul(np.matmul(np.multiply(-0.5*f-diff_0), in_cov_mat), np.reshape(f_diff_0, (1, f_len))))\n",
    "    \n",
    "    f_diff_1 = [x+y for x,y in zip(image-features,mue1)]\n",
    "    px_1 = function_prefix*e**(np.matmul(np.matmul(np.multiply(-0.5*f-diff_1), in_cov_mat), np.reshape(f_diff_1, (1, f_len))))\n",
    "    \n",
    "    if px_0 > px_1:\n",
    "        return \"negativ, u are not infected\"\n",
    "    else:\n",
    "        return \"positive, chargas Parasite found!!!\""
   ]
  },
  {
   "cell_type": "code",
   "execution_count": 326,
   "metadata": {},
   "outputs": [
    {
     "data": {
      "text/plain": [
       "1.0"
      ]
     },
     "execution_count": 326,
     "metadata": {},
     "output_type": "execute_result"
    }
   ],
   "source": [
    "m.e**0"
   ]
  },
  {
   "cell_type": "code",
   "execution_count": 334,
   "metadata": {},
   "outputs": [
    {
     "data": {
      "text/plain": [
       "array([[-1.,  1.],\n",
       "       [ 1.,  0.]])"
      ]
     },
     "execution_count": 334,
     "metadata": {},
     "output_type": "execute_result"
    }
   ],
   "source": [
    "np.linalg.inv([[0,1],[1,1]])"
   ]
  },
  {
   "cell_type": "code",
   "execution_count": null,
   "metadata": {},
   "outputs": [],
   "source": []
  }
 ],
 "metadata": {
  "kernelspec": {
   "display_name": "Python 3",
   "language": "python",
   "name": "python3"
  },
  "language_info": {
   "codemirror_mode": {
    "name": "ipython",
    "version": 2
   },
   "file_extension": ".py",
   "mimetype": "text/x-python",
   "name": "python",
   "nbconvert_exporter": "python",
   "pygments_lexer": "ipython2",
   "version": "2.7.15rc1"
  }
 },
 "nbformat": 4,
 "nbformat_minor": 2
}
