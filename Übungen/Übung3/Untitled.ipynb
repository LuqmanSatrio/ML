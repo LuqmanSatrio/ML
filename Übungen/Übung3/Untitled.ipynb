{
 "cells": [
  {
   "cell_type": "code",
   "execution_count": null,
   "metadata": {},
   "outputs": [],
   "source": [
    "Hausaufgaben von Wajid Ghafoor und Benjamin Ostendorf"
   ]
  },
  {
   "cell_type": "code",
   "execution_count": 462,
   "metadata": {},
   "outputs": [],
   "source": [
    "from PIL import Image, ImageColor\n",
    "import numpy as np\n",
    "from PIL import ImageFilter\n",
    "import math as m"
   ]
  },
  {
   "cell_type": "code",
   "execution_count": 463,
   "metadata": {},
   "outputs": [],
   "source": [
    "# Show one image\n",
    "im = Image.open(\"positives/p01.png\")\n",
    "im.show()"
   ]
  },
  {
   "cell_type": "code",
   "execution_count": 464,
   "metadata": {},
   "outputs": [],
   "source": [
    "def extrema_red(image):\n",
    "    return image.getextrema()[0][0]\n",
    "def extrema_green(image):\n",
    "    return image.getextrema()[1][0]\n",
    "def variance_red(image):\n",
    "    return np.var(image.split()[0])\n",
    "def variance_green(image):\n",
    "    return np.var(image.split()[1])\n",
    "def mean_blue(image):\n",
    "    return np.mean(image.split()[2])"
   ]
  },
  {
   "cell_type": "code",
   "execution_count": 465,
   "metadata": {},
   "outputs": [],
   "source": [
    "def create_feature(image):\n",
    "    er = extrema_red(image)\n",
    "    eg = extrema_green(image)\n",
    "    vr = variance_red(image)\n",
    "    vg = variance_green(image)\n",
    "    mb = mean_blue(image)\n",
    "    return [er,eg,vr,vg,mb]\n",
    "            "
   ]
  },
  {
   "cell_type": "code",
   "execution_count": 467,
   "metadata": {},
   "outputs": [],
   "source": [
    "def create_feature_positives():\n",
    "    positives = []\n",
    "    for i in range(1,31):\n",
    "        if i < 10:\n",
    "            im_pos = Image.open(\"positives/p0\" + str(i) + \".png\")\n",
    "            er = extrema_red(im_pos)\n",
    "            eg = extrema_green(im_pos)\n",
    "            vr = variance_red(im_pos)\n",
    "            vg = variance_green(im_pos)\n",
    "            mb = mean_blue(im_pos)\n",
    "            positives.append([er,eg,vr,vg,mb])\n",
    "        else: \n",
    "            im_pos = Image.open(\"positives/p\" + str(i) + \".png\")\n",
    "            er = extrema_red(im_pos)\n",
    "            eg = extrema_green(im_pos)\n",
    "            vr = variance_red(im_pos)\n",
    "            vg = variance_green(im_pos)\n",
    "            mb = mean_blue(im_pos)\n",
    "            positives.append([er,eg,vr,vg,mb])\n",
    "    return positives\n",
    "\n",
    "def create_feature_negatives():\n",
    "    negatives = []\n",
    "    for i in range(1,31):\n",
    "        if i < 10:\n",
    "            im_neg = Image.open(\"negatives/n0\" + str(i) + \".png\")\n",
    "            er = extrema_red(im_neg)\n",
    "            eg = extrema_green(im_neg)\n",
    "            vr = variance_red(im_neg)\n",
    "            vg = variance_green(im_neg)\n",
    "            mb = mean_blue(im_neg)\n",
    "            negatives.append([er,eg,vr,vg,mb])\n",
    "        else: \n",
    "            im_neg = Image.open(\"negatives/n\" + str(i) + \".png\")\n",
    "            er = extrema_red(im_neg)\n",
    "            eg = extrema_green(im_neg)\n",
    "            vr = variance_red(im_neg)\n",
    "            vg = variance_green(im_neg)\n",
    "            mb = mean_blue(im_neg)\n",
    "            negatives.append([er,eg,vr,vg,mb])\n",
    "    return negatives\n",
    "    \n",
    "    \n",
    "    "
   ]
  },
  {
   "cell_type": "code",
   "execution_count": 468,
   "metadata": {},
   "outputs": [],
   "source": [
    "positive_features = create_feature_positives()\n",
    "negative_features = create_feature_negatives()"
   ]
  },
  {
   "cell_type": "code",
   "execution_count": 469,
   "metadata": {},
   "outputs": [],
   "source": [
    "def phi(positive_features, negative_features):\n",
    "    return float(len(positive_features)) / float((len(negative_features)+len(positive_features)))\n",
    "    "
   ]
  },
  {
   "cell_type": "code",
   "execution_count": 470,
   "metadata": {},
   "outputs": [],
   "source": [
    "def mue(features):\n",
    "    sum_of_features = reduce(lambda a,b: [x+y for x,y in zip(a,b)], features)\n",
    "    return list(map(lambda x: float(x/len(features)), sum_of_features))\n",
    "    "
   ]
  },
  {
   "cell_type": "code",
   "execution_count": 471,
   "metadata": {},
   "outputs": [],
   "source": [
    "def covariance_matrix(positive_features,negative_features):\n",
    "    mue0 = mue(negative_features)\n",
    "    number_of_features = len(negative_features[0])\n",
    "    neg_mat_list = list(map(lambda x: np.matmul(np.reshape([a-b for a,b in zip(x, mue0)],  (number_of_features, 1)), np.reshape([n-m for n,m in zip(x, mue0)], (1, (number_of_features)))), negative_features))\n",
    "    \n",
    "    mue1 = mue(positive_features)\n",
    "    pos_mat_list = list(map(lambda x: np.matmul(np.reshape([a-b for a,b in zip(x, mue1)],  (number_of_features, 1)), np.reshape([n-m for n,m in zip(x, mue1)], (1, (number_of_features)))), positive_features))\n",
    "    \n",
    "    mat_list = np.append(neg_mat_list, pos_mat_list, axis=0)\n",
    "    #print(mat_list)\n",
    "    cov_mat = mat_list[0]\n",
    "    for i in range(1,len(mat_list)):\n",
    "        cov_mat = np.add(cov_mat,mat_list[i])\n",
    "    \n",
    "    return np.multiply(cov_mat,float(1.0/float(len(mat_list))))"
   ]
  },
  {
   "cell_type": "code",
   "execution_count": 483,
   "metadata": {},
   "outputs": [],
   "source": [
    "def predict(image,positive_features,negative_features):\n",
    "    n = len(positive_features)+ len(negative_features)\n",
    "    phi_1 = phi(positive_features,negative_features)\n",
    "    phi_0 = phi(negative_features, positive_features)\n",
    "    #print(phi_1)\n",
    "    #print(phi_0)\n",
    "    mue0 = mue(negative_features)\n",
    "    mue1 = mue(positive_features)\n",
    "    cov_mat = covariance_matrix(positive_features, negative_features)\n",
    "    image_features = create_feature(image)\n",
    "    f_len = len(image_features)\n",
    "    function_prefix = 1.0/((2.0*m.pi)**float(n/2.0)*np.linalg.det(cov_mat)**float(1.0/2.0))\n",
    "    in_cov_mat = np.linalg.inv(cov_mat)\n",
    "    f_diff_0 = np.reshape([x+y for x,y in zip(image_features,mue0)], (1, f_len))\n",
    "    \n",
    "    mat0_1 = np.multiply(-0.5, f_diff_0)\n",
    "    mat0_2 = np.matmul(mat0_1, in_cov_mat)\n",
    "   # print(np.matmul(mat0_2, np.reshape(f_diff_0, (f_len, 1))))\n",
    "    px_0 = function_prefix*m.e**(np.matmul(mat0_2, np.reshape(f_diff_0, (f_len, 1)))[0][0])\n",
    "        \n",
    "    f_diff_1 = np.reshape([x+y for x,y in zip(image_features,mue1)], (1, f_len))\n",
    "    \n",
    "    mat1_1 = np.multiply(-0.5, f_diff_1)\n",
    "    mat1_2 = np.matmul(mat1_1, in_cov_mat)\n",
    "   # print(np.matmul(mat1_2, np.reshape(f_diff_1, (f_len, 1))))\n",
    "    px_1 = function_prefix*m.e**(np.matmul(mat1_2, np.reshape(f_diff_1, (f_len, 1)))[0][0])\n",
    "        \n",
    "    #print(phi_1, mue0, mue1, cov_mat)\n",
    "    if phi_0 * px_0 > phi_1 * px_1:\n",
    "        return \"negativ, u are not infected\"\n",
    "    else:\n",
    "        return \"positive, chargas Parasite found!!!\""
   ]
  },
  {
   "cell_type": "code",
   "execution_count": 484,
   "metadata": {},
   "outputs": [
    {
     "name": "stdout",
     "output_type": "stream",
     "text": [
      "negativ, u are not infected\n",
      "negativ, u are not infected\n",
      "negativ, u are not infected\n",
      "negativ, u are not infected\n",
      "negativ, u are not infected\n",
      "negativ, u are not infected\n",
      "negativ, u are not infected\n",
      "negativ, u are not infected\n",
      "negativ, u are not infected\n",
      "negativ, u are not infected\n",
      "negativ, u are not infected\n",
      "negativ, u are not infected\n",
      "negativ, u are not infected\n",
      "negativ, u are not infected\n",
      "negativ, u are not infected\n",
      "negativ, u are not infected\n",
      "negativ, u are not infected\n",
      "negativ, u are not infected\n",
      "negativ, u are not infected\n",
      "negativ, u are not infected\n"
     ]
    }
   ],
   "source": [
    "for i in range(10,30):\n",
    "    print(predict(Image.open(\"positives/p\" + str(i) + \".png\"), positive_features,negative_features))"
   ]
  },
  {
   "cell_type": "code",
   "execution_count": 485,
   "metadata": {},
   "outputs": [
    {
     "name": "stdout",
     "output_type": "stream",
     "text": [
      "negativ, u are not infected\n",
      "negativ, u are not infected\n",
      "negativ, u are not infected\n",
      "negativ, u are not infected\n",
      "negativ, u are not infected\n",
      "negativ, u are not infected\n",
      "negativ, u are not infected\n",
      "negativ, u are not infected\n",
      "negativ, u are not infected\n",
      "negativ, u are not infected\n",
      "negativ, u are not infected\n",
      "negativ, u are not infected\n",
      "negativ, u are not infected\n",
      "negativ, u are not infected\n",
      "negativ, u are not infected\n",
      "negativ, u are not infected\n",
      "negativ, u are not infected\n",
      "negativ, u are not infected\n",
      "negativ, u are not infected\n",
      "negativ, u are not infected\n"
     ]
    }
   ],
   "source": [
    "for i in range(10,30):\n",
    "    print(predict(Image.open(\"negatives/n\" + str(i) + \".png\"), positive_features,negative_features))"
   ]
  }
 ],
 "metadata": {
  "kernelspec": {
   "display_name": "Python 3",
   "language": "python",
   "name": "python3"
  },
  "language_info": {
   "codemirror_mode": {
    "name": "ipython",
    "version": 2
   },
   "file_extension": ".py",
   "mimetype": "text/x-python",
   "name": "python",
   "nbconvert_exporter": "python",
   "pygments_lexer": "ipython2",
   "version": "2.7.15rc1"
  }
 },
 "nbformat": 4,
 "nbformat_minor": 2
}
