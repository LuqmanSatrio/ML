{
 "cells": [
  {
   "cell_type": "markdown",
   "metadata": {},
   "source": [
    "Wajid Ghafoor und Benjamin Ostendorf"
   ]
  },
  {
   "cell_type": "code",
   "execution_count": 1,
   "metadata": {},
   "outputs": [],
   "source": [
    "from PIL import Image, ImageColor\n",
    "import numpy as np\n",
    "from PIL import ImageFilter\n",
    "import math as m\n",
    "from functools import reduce"
   ]
  },
  {
   "cell_type": "markdown",
   "metadata": {},
   "source": [
    "The features we selected are the minima of the red and green channel of the images, as well as the variance on both channels. Furthermore we selected the mean of the pixel values in the blue channel as our fifth feature.\n",
    "We also thought about using an edge detection filter on the images.\n",
    "With this we could also use the mean or median of the edge gradient or the absolut number of edges as features. Since using all edges proofed to be of no advantage, we didn't follow up on the idea. Using only edges with a gradient over a certain threshold might increase our results, but we haven't tried it out.\n",
    "\n",
    "The following represents our model parameters (phi, mue for both classes and our covariance matrix)."
   ]
  },
  {
   "cell_type": "code",
   "execution_count": 12,
   "metadata": {},
   "outputs": [
    {
     "name": "stdout",
     "output_type": "stream",
     "text": [
      "Phi (equal for both classes):\n",
      " 0.5 \n",
      "\n",
      "Mue for positive examples:\n",
      " [96.93333333333334, 50.733333333333334, 309.82349737975824, 593.8893428096064, 147.94641203703705] \n",
      "\n",
      "Mue for negative examples:\n",
      " [141.13333333333333, 103.73333333333333, 91.31537382651751, 123.02140199009776, 127.90520833333332] \n",
      "\n",
      "Covariance matrix:\n",
      " [[  306.02222222   222.90888889  -742.40036764  -626.57344732\n",
      "    123.4933642 ]\n",
      " [  222.90888889   271.59555556  -770.92655752 -1202.79414514\n",
      "    115.52529707]\n",
      " [ -742.40036764  -770.92655752  7242.53451075 13000.43416291\n",
      "    -86.82840413]\n",
      " [ -626.57344732 -1202.79414514 13000.43416291 29147.35052597\n",
      "    169.56172051]\n",
      " [  123.4933642    115.52529707   -86.82840413   169.56172051\n",
      "    113.20803166]] \n",
      "\n"
     ]
    }
   ],
   "source": [
    "#We devided the avialable data into traning and testing sets. \n",
    "#The first half is used for training while the second half is used to test against.\n",
    "\n",
    "\n",
    "print('Phi (equal for both classes):\\n', phi(positive_features_half, negative_features_half), '\\n')\n",
    "\n",
    "print('Mue for positive examples:\\n', mue(positive_features_half), '\\n')\n",
    "\n",
    "print('Mue for negative examples:\\n', mue(negative_features_half), '\\n')\n",
    "\n",
    "print('Covariance matrix:\\n', covariance_matrix(positive_features_half, negative_features_half), '\\n')"
   ]
  },
  {
   "cell_type": "code",
   "execution_count": 3,
   "metadata": {},
   "outputs": [],
   "source": [
    "def extrema_red(image):\n",
    "    return image.getextrema()[0][0]\n",
    "def extrema_green(image):\n",
    "    return image.getextrema()[1][0]\n",
    "def variance_red(image):\n",
    "    return np.var(image.split()[0])\n",
    "def variance_green(image):\n",
    "    return np.var(image.split()[1])\n",
    "def mean_blue(image):\n",
    "    return np.mean(image.split()[2])"
   ]
  },
  {
   "cell_type": "code",
   "execution_count": 4,
   "metadata": {},
   "outputs": [],
   "source": [
    "def create_feature(image):\n",
    "    er = extrema_red(image)\n",
    "    eg = extrema_green(image)\n",
    "    vr = variance_red(image)\n",
    "    vg = variance_green(image)\n",
    "    mb = mean_blue(image)\n",
    "    return [er,eg,vr,vg,mb]\n",
    "\n",
    "def create_features(img_list):\n",
    "    return list(map(create_feature, img_list))"
   ]
  },
  {
   "cell_type": "code",
   "execution_count": 5,
   "metadata": {},
   "outputs": [],
   "source": [
    "pos_image_list = [Image.open(\"positives/p0\" + str(i) + \".png\") if i < 10 else Image.open(\"positives/p\" + str(i) + \".png\")\n",
    "                  for i in range(1,31)]\n",
    "neg_image_list = [Image.open(\"negatives/n0\" + str(i) + \".png\") if i < 10 else Image.open(\"negatives/n\" + str(i) + \".png\")\n",
    "                  for i in range(1,31)]\n",
    "\n",
    "positive_features_full = create_features(pos_image_list)\n",
    "negative_features_full = create_features(neg_image_list)\n",
    "\n",
    "#split dataset into traning and testing\n",
    "positive_features_half = create_features(pos_image_list[0:15])\n",
    "negative_features_half = create_features(neg_image_list[0:15])"
   ]
  },
  {
   "cell_type": "code",
   "execution_count": 6,
   "metadata": {},
   "outputs": [],
   "source": [
    "def phi(positive_features, negative_features):\n",
    "    return float(len(positive_features)) / float((len(negative_features)+len(positive_features)))\n",
    "\n",
    "def mue(features):\n",
    "    sum_of_features = reduce(lambda a,b: [x+y for x,y in zip(a,b)], features)\n",
    "    return list(map(lambda x: float(x/len(features)), sum_of_features))\n",
    "\n",
    "def covariance_matrix(positive_features,negative_features):\n",
    "    mue0 = mue(negative_features)\n",
    "    number_of_features = len(negative_features[0])\n",
    "    neg_mat_list = list(map(lambda x: np.matmul(np.reshape([a-b for a,b in zip(x, mue0)],  (number_of_features, 1)), np.reshape([n-m for n,m in zip(x, mue0)], (1, (number_of_features)))), negative_features))\n",
    "    \n",
    "    mue1 = mue(positive_features)\n",
    "    pos_mat_list = list(map(lambda x: np.matmul(np.reshape([a-b for a,b in zip(x, mue1)],  (number_of_features, 1)), np.reshape([n-m for n,m in zip(x, mue1)], (1, (number_of_features)))), positive_features))\n",
    "    \n",
    "    mat_list = np.append(neg_mat_list, pos_mat_list, axis=0)\n",
    "    #print(mat_list)\n",
    "    cov_mat = mat_list[0]\n",
    "    for i in range(1,len(mat_list)):\n",
    "        cov_mat = np.add(cov_mat,mat_list[i])\n",
    "    \n",
    "    return np.multiply(cov_mat,float(1.0/float(len(mat_list))))"
   ]
  },
  {
   "cell_type": "code",
   "execution_count": 7,
   "metadata": {},
   "outputs": [],
   "source": [
    "def predict(image,positive_features,negative_features):\n",
    "    n = len(positive_features)+ len(negative_features)\n",
    "    phi_1 = phi(positive_features,negative_features)\n",
    "    phi_0 = phi(negative_features, positive_features)\n",
    "    #print(phi_1)\n",
    "    #print(phi_0)\n",
    "    mue0 = mue(negative_features)\n",
    "    mue1 = mue(positive_features)\n",
    "    cov_mat = covariance_matrix(positive_features, negative_features)\n",
    "    image_features = create_feature(image)\n",
    "    f_len = len(image_features)\n",
    "    function_prefix = 1.0/((2.0*m.pi)**float(n/2.0)*np.linalg.det(cov_mat)**float(1.0/2.0))\n",
    "    in_cov_mat = np.linalg.inv(cov_mat)\n",
    "    f_diff_0 = np.reshape([x-y for x,y in zip(image_features,mue0)], (1, f_len))\n",
    "    \n",
    "    mat0_1 = np.multiply(-0.5, f_diff_0)\n",
    "    mat0_2 = np.matmul(mat0_1, in_cov_mat)\n",
    "   # print(np.matmul(mat0_2, np.reshape(f_diff_0, (f_len, 1))))\n",
    "    px_0 = function_prefix*m.e**(np.matmul(mat0_2, np.reshape(f_diff_0, (f_len, 1)))[0][0])\n",
    "        \n",
    "    f_diff_1 = np.reshape([x-y for x,y in zip(image_features,mue1)], (1, f_len))\n",
    "    \n",
    "    mat1_1 = np.multiply(-0.5, f_diff_1)\n",
    "    mat1_2 = np.matmul(mat1_1, in_cov_mat)\n",
    "   # print(np.matmul(mat1_2, np.reshape(f_diff_1, (f_len, 1))))\n",
    "    px_1 = function_prefix*m.e**(np.matmul(mat1_2, np.reshape(f_diff_1, (f_len, 1)))[0][0])\n",
    "        \n",
    "    #print(phi_1, mue0, mue1, cov_mat)\n",
    "    if phi_0 * px_0 > phi_1 * px_1:\n",
    "        return \"negativ, u are not infected\"\n",
    "    else:\n",
    "        return \"positive, chargas Parasite found!!!\""
   ]
  },
  {
   "cell_type": "code",
   "execution_count": 8,
   "metadata": {},
   "outputs": [
    {
     "name": "stdout",
     "output_type": "stream",
     "text": [
      "positive, chargas Parasite found!!!\n",
      "positive, chargas Parasite found!!!\n",
      "positive, chargas Parasite found!!!\n",
      "positive, chargas Parasite found!!!\n",
      "positive, chargas Parasite found!!!\n",
      "positive, chargas Parasite found!!!\n",
      "positive, chargas Parasite found!!!\n",
      "positive, chargas Parasite found!!!\n",
      "positive, chargas Parasite found!!!\n",
      "positive, chargas Parasite found!!!\n",
      "positive, chargas Parasite found!!!\n",
      "positive, chargas Parasite found!!!\n",
      "positive, chargas Parasite found!!!\n",
      "positive, chargas Parasite found!!!\n",
      "positive, chargas Parasite found!!!\n",
      "positive, chargas Parasite found!!!\n",
      "positive, chargas Parasite found!!!\n",
      "positive, chargas Parasite found!!!\n",
      "positive, chargas Parasite found!!!\n",
      "positive, chargas Parasite found!!!\n",
      "positive, chargas Parasite found!!!\n",
      "positive, chargas Parasite found!!!\n",
      "positive, chargas Parasite found!!!\n",
      "positive, chargas Parasite found!!!\n",
      "positive, chargas Parasite found!!!\n",
      "positive, chargas Parasite found!!!\n",
      "positive, chargas Parasite found!!!\n",
      "positive, chargas Parasite found!!!\n",
      "positive, chargas Parasite found!!!\n"
     ]
    }
   ],
   "source": [
    "#Classify all positive images. Learned with full dataset.\n",
    "for i in range(1,30):\n",
    "    if i < 10:\n",
    "        print(predict(Image.open(\"positives/p0\" + str(i) + \".png\"), positive_features_full,negative_features_full))\n",
    "    else:\n",
    "        print(predict(Image.open(\"positives/p\" + str(i) + \".png\"), positive_features_full,negative_features_full))"
   ]
  },
  {
   "cell_type": "code",
   "execution_count": 9,
   "metadata": {},
   "outputs": [
    {
     "name": "stdout",
     "output_type": "stream",
     "text": [
      "negativ, u are not infected\n",
      "negativ, u are not infected\n",
      "negativ, u are not infected\n",
      "negativ, u are not infected\n",
      "negativ, u are not infected\n",
      "positive, chargas Parasite found!!!\n",
      "negativ, u are not infected\n",
      "negativ, u are not infected\n",
      "negativ, u are not infected\n",
      "negativ, u are not infected\n",
      "negativ, u are not infected\n",
      "negativ, u are not infected\n",
      "negativ, u are not infected\n",
      "negativ, u are not infected\n",
      "negativ, u are not infected\n",
      "negativ, u are not infected\n",
      "negativ, u are not infected\n",
      "negativ, u are not infected\n",
      "negativ, u are not infected\n",
      "negativ, u are not infected\n",
      "negativ, u are not infected\n",
      "negativ, u are not infected\n",
      "negativ, u are not infected\n",
      "negativ, u are not infected\n",
      "negativ, u are not infected\n",
      "negativ, u are not infected\n",
      "negativ, u are not infected\n",
      "negativ, u are not infected\n",
      "negativ, u are not infected\n"
     ]
    }
   ],
   "source": [
    "#Classify all negative images. Learned with full dataset.\n",
    "for i in range(1,30):\n",
    "    if i < 10:\n",
    "        print(predict(Image.open(\"negatives/n0\" + str(i) + \".png\"), positive_features_full,negative_features_full))\n",
    "    else:\n",
    "        print(predict(Image.open(\"negatives/n\" + str(i) + \".png\"), positive_features_full,negative_features_full))"
   ]
  },
  {
   "cell_type": "code",
   "execution_count": 10,
   "metadata": {},
   "outputs": [
    {
     "name": "stdout",
     "output_type": "stream",
     "text": [
      "positive, chargas Parasite found!!!\n",
      "positive, chargas Parasite found!!!\n",
      "positive, chargas Parasite found!!!\n",
      "positive, chargas Parasite found!!!\n",
      "positive, chargas Parasite found!!!\n",
      "positive, chargas Parasite found!!!\n",
      "positive, chargas Parasite found!!!\n",
      "positive, chargas Parasite found!!!\n",
      "positive, chargas Parasite found!!!\n",
      "positive, chargas Parasite found!!!\n",
      "positive, chargas Parasite found!!!\n",
      "positive, chargas Parasite found!!!\n",
      "positive, chargas Parasite found!!!\n",
      "positive, chargas Parasite found!!!\n",
      "positive, chargas Parasite found!!!\n",
      "positive, chargas Parasite found!!!\n",
      "positive, chargas Parasite found!!!\n",
      "positive, chargas Parasite found!!!\n",
      "positive, chargas Parasite found!!!\n",
      "positive, chargas Parasite found!!!\n",
      "positive, chargas Parasite found!!!\n",
      "positive, chargas Parasite found!!!\n",
      "positive, chargas Parasite found!!!\n",
      "positive, chargas Parasite found!!!\n",
      "positive, chargas Parasite found!!!\n",
      "positive, chargas Parasite found!!!\n",
      "positive, chargas Parasite found!!!\n",
      "negativ, u are not infected\n",
      "positive, chargas Parasite found!!!\n"
     ]
    }
   ],
   "source": [
    "#Classify all positive images. Learned first half dataset.\n",
    "for i in range(1,30):\n",
    "    if i < 10:\n",
    "        print(predict(Image.open(\"positives/p0\" + str(i) + \".png\"), positive_features_half,negative_features_half))\n",
    "    else:\n",
    "        print(predict(Image.open(\"positives/p\" + str(i) + \".png\"), positive_features_half,negative_features_half))"
   ]
  },
  {
   "cell_type": "code",
   "execution_count": 11,
   "metadata": {},
   "outputs": [
    {
     "name": "stdout",
     "output_type": "stream",
     "text": [
      "negativ, u are not infected\n",
      "negativ, u are not infected\n",
      "negativ, u are not infected\n",
      "negativ, u are not infected\n",
      "negativ, u are not infected\n",
      "positive, chargas Parasite found!!!\n",
      "negativ, u are not infected\n",
      "negativ, u are not infected\n",
      "negativ, u are not infected\n",
      "negativ, u are not infected\n",
      "negativ, u are not infected\n",
      "negativ, u are not infected\n",
      "negativ, u are not infected\n",
      "negativ, u are not infected\n",
      "negativ, u are not infected\n",
      "negativ, u are not infected\n",
      "negativ, u are not infected\n",
      "negativ, u are not infected\n",
      "negativ, u are not infected\n",
      "negativ, u are not infected\n",
      "negativ, u are not infected\n",
      "negativ, u are not infected\n",
      "negativ, u are not infected\n",
      "negativ, u are not infected\n",
      "negativ, u are not infected\n",
      "negativ, u are not infected\n",
      "negativ, u are not infected\n",
      "negativ, u are not infected\n",
      "negativ, u are not infected\n"
     ]
    }
   ],
   "source": [
    "#Classify all negative images. Learned with first half dataset.\n",
    "for i in range(1,30):\n",
    "    if i < 10:\n",
    "        print(predict(Image.open(\"negatives/n0\" + str(i) + \".png\"), positive_features_half,negative_features_half))\n",
    "    else:\n",
    "        print(predict(Image.open(\"negatives/n\" + str(i) + \".png\"), positive_features_half,negative_features_half))"
   ]
  },
  {
   "cell_type": "code",
   "execution_count": null,
   "metadata": {},
   "outputs": [],
   "source": []
  },
  {
   "cell_type": "code",
   "execution_count": null,
   "metadata": {},
   "outputs": [],
   "source": []
  },
  {
   "cell_type": "code",
   "execution_count": null,
   "metadata": {},
   "outputs": [],
   "source": []
  }
 ],
 "metadata": {
  "kernelspec": {
   "display_name": "Python 3",
   "language": "python",
   "name": "python3"
  },
  "language_info": {
   "codemirror_mode": {
    "name": "ipython",
    "version": 3
   },
   "file_extension": ".py",
   "mimetype": "text/x-python",
   "name": "python",
   "nbconvert_exporter": "python",
   "pygments_lexer": "ipython3",
   "version": "3.6.7"
  }
 },
 "nbformat": 4,
 "nbformat_minor": 2
}
