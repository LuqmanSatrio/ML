{
 "cells": [
  {
   "cell_type": "code",
   "execution_count": 129,
   "metadata": {},
   "outputs": [],
   "source": [
    "import numpy as np\n",
    "import math as m\n",
    "import matplotlib.pyplot as plt"
   ]
  },
  {
   "cell_type": "code",
   "execution_count": 130,
   "metadata": {},
   "outputs": [],
   "source": [
    "y_ones = np.ones(100)\n",
    "x = np.random.uniform(size=100)\n",
    "epsilon = np.random.uniform(low=-0.3,high=0.3,size=100)\n"
   ]
  },
  {
   "cell_type": "code",
   "execution_count": 159,
   "metadata": {},
   "outputs": [],
   "source": [
    "alpha = 0.9"
   ]
  },
  {
   "cell_type": "code",
   "execution_count": 164,
   "metadata": {},
   "outputs": [
    {
     "data": {
      "text/plain": [
       "array([0.28027526, 0.64942287, 0.66429879, 0.27484125, 0.30756546,\n",
       "       0.8151982 , 0.38222611, 0.42489304, 0.56830714, 0.76431531,\n",
       "       0.6146592 , 0.18802639, 0.54053327, 0.83870262, 0.71634968,\n",
       "       0.31286719, 0.30576054, 0.49331082, 0.00309061, 0.95160105,\n",
       "       0.66761026, 0.73584585, 0.64082396, 0.90803466, 0.756753  ,\n",
       "       0.20865771, 0.42434167, 0.28258249, 0.74838656, 0.77266518,\n",
       "       0.2454021 , 0.47968123, 0.8989585 , 0.9865091 , 0.15319156,\n",
       "       0.74374356, 0.88762366, 0.84117048, 0.73867357, 0.29618909,\n",
       "       0.22526649, 0.1228053 , 0.28360774, 0.29563565, 0.56911364,\n",
       "       0.91220411, 0.28770064, 0.28759812, 0.91556298, 0.24636489,\n",
       "       0.41884782, 0.97653127, 0.35292961, 0.74002611, 0.90155301,\n",
       "       0.37032558, 0.28974459, 0.37323024, 0.23057022, 0.38193949,\n",
       "       0.99931121, 0.90702657, 0.73134257, 0.91061816, 0.27013379,\n",
       "       0.91483628, 0.20482027, 0.59919042, 0.49455833, 0.62660764,\n",
       "       0.1835503 , 0.09079279, 0.69840085, 0.19434578, 0.50899378,\n",
       "       0.14148016, 0.6307631 , 0.51369336, 0.26490012, 0.98216988,\n",
       "       0.43916589, 0.41290886, 0.75659136, 0.61953141, 0.60711402,\n",
       "       0.6124174 , 0.24758202, 0.00552988, 0.5535543 , 0.21282198,\n",
       "       0.80092213, 0.09391697, 0.07200785, 0.55486376, 0.2510328 ,\n",
       "       0.04370629, 0.79644794, 0.25109791, 0.89172545, 0.85600959])"
      ]
     },
     "execution_count": 164,
     "metadata": {},
     "output_type": "execute_result"
    }
   ],
   "source": [
    "x"
   ]
  },
  {
   "cell_type": "code",
   "execution_count": 165,
   "metadata": {},
   "outputs": [],
   "source": [
    "y = np.multiply(np.add(np.sin((2*np.pi*x)),epsilon),y_ones)"
   ]
  },
  {
   "cell_type": "code",
   "execution_count": 166,
   "metadata": {},
   "outputs": [
    {
     "data": {
      "image/png": "[encoded data removed]",
      "text/plain": [
       "<Figure size 432x288 with 1 Axes>"
      ]
     },
     "metadata": {
      "needs_background": "light"
     },
     "output_type": "display_data"
    }
   ],
   "source": [
    "plt.plot(x, y, 'ro')\n",
    "plt.axis([0, 1, -1.5, 1.5])\n",
    "plt.show()\n"
   ]
  },
  {
   "cell_type": "code",
   "execution_count": 134,
   "metadata": {},
   "outputs": [],
   "source": [
    "x_range = np.arange(0,100)"
   ]
  },
  {
   "cell_type": "code",
   "execution_count": 167,
   "metadata": {},
   "outputs": [
    {
     "data": {
      "text/plain": [
       "[<matplotlib.lines.Line2D at 0x7f4aff4d8c10>]"
      ]
     },
     "execution_count": 167,
     "metadata": {},
     "output_type": "execute_result"
    },
    {
     "data": {
      "image/png": "[encoded data removed]",
      "text/plain": [
       "<Figure size 432x288 with 1 Axes>"
      ]
     },
     "metadata": {
      "needs_background": "light"
     },
     "output_type": "display_data"
    }
   ],
   "source": [
    "plt.plot(x_range, x, 'bo')"
   ]
  },
  {
   "cell_type": "code",
   "execution_count": 136,
   "metadata": {},
   "outputs": [],
   "source": [
    "def init_func(degree):\n",
    "    return np.random.uniform(low=-0.5, high=0.5, size=degree)"
   ]
  },
  {
   "cell_type": "code",
   "execution_count": 137,
   "metadata": {},
   "outputs": [],
   "source": [
    "def eval_polynom(polynom, x_i):\n",
    "    return sum([polynom[theta]*pow(x_i,theta) for theta in range(len(polynom))])\n",
    "    "
   ]
  },
  {
   "cell_type": "code",
   "execution_count": 138,
   "metadata": {},
   "outputs": [],
   "source": [
    "def learning_step(theta_index, polynom, seed_index):\n",
    "    polynom[theta_index] = polynom[theta_index] + alpha *(y[seed_index]- \n",
    "                                            eval_polynom(polynom,x[seed_index]))*(x[seed_index]**theta_index)\n",
    "    return polynom"
   ]
  },
  {
   "cell_type": "code",
   "execution_count": 139,
   "metadata": {},
   "outputs": [],
   "source": [
    "def error_function(polynom):\n",
    "    return 0.5*sum([pow(eval_polynom(polynom,x[seed_index])- y[seed_index],2) for seed_index in range(len(x))])"
   ]
  },
  {
   "cell_type": "code",
   "execution_count": 140,
   "metadata": {},
   "outputs": [],
   "source": [
    "def Stochastic_Gradient_descent(x,y,polynom,iteration):\n",
    "    error_array = []\n",
    "    for it in range(iteration):\n",
    "        for seed_index in range(len(x)):\n",
    "            for theta_index in range(len(polynom)):\n",
    "                error_array.append(error_function(polynom))\n",
    "                polynom = learning_step(theta_index, polynom, seed_index)\n",
    "    return (polynom, error_array)\n",
    "            \n",
    "        \n",
    "        "
   ]
  },
  {
   "cell_type": "code",
   "execution_count": 160,
   "metadata": {},
   "outputs": [],
   "source": [
    " a = Stochastic_Gradient_descent(x,y,init_func(10),100)"
   ]
  },
  {
   "cell_type": "code",
   "execution_count": 161,
   "metadata": {},
   "outputs": [
    {
     "data": {
      "image/png": "[encoded data removed]",
      "text/plain": [
       "<Figure size 432x288 with 1 Axes>"
      ]
     },
     "metadata": {
      "needs_background": "light"
     },
     "output_type": "display_data"
    }
   ],
   "source": [
    "plt.plot(np.arange(len(a[1])),a[1])\n",
    "plt.show()"
   ]
  },
  {
   "cell_type": "code",
   "execution_count": 154,
   "metadata": {},
   "outputs": [
    {
     "data": {
      "text/plain": [
       "array([ 0.7045875 ,  1.21308849, -3.27177334, -2.82788017, -0.91965745,\n",
       "        0.55362515,  0.86540899,  1.302885  ,  1.71905906,  1.39077429])"
      ]
     },
     "execution_count": 154,
     "metadata": {},
     "output_type": "execute_result"
    }
   ],
   "source": [
    "a[0]"
   ]
  },
  {
   "cell_type": "code",
   "execution_count": 163,
   "metadata": {},
   "outputs": [
    {
     "data": {
      "image/png": "[encoded data removed]",
      "text/plain": [
       "<Figure size 432x288 with 1 Axes>"
      ]
     },
     "metadata": {
      "needs_background": "light"
     },
     "output_type": "display_data"
    }
   ],
   "source": [
    "steps = np.arange(1000,dtype=float)\n",
    "for i in range(len(steps)):\n",
    "    steps[i]=steps[i]/1000\n",
    "steps\n",
    "plt.plot(steps,ar, x, y, 'ro')\n",
    "plt.axis([0, 1, -2, 2])\n",
    "plt.show()"
   ]
  },
  {
   "cell_type": "code",
   "execution_count": 162,
   "metadata": {},
   "outputs": [],
   "source": [
    "ar = np.arange(1000, dtype=float)\n",
    "for i in range(len(ar)):\n",
    "    ar[i] = float(eval_polynom(a[0], (1.0/1000)*float(i)))"
   ]
  },
  {
   "cell_type": "code",
   "execution_count": null,
   "metadata": {},
   "outputs": [],
   "source": []
  }
 ],
 "metadata": {
  "kernelspec": {
   "display_name": "Python 3",
   "language": "python",
   "name": "python3"
  },
  "language_info": {
   "codemirror_mode": {
    "name": "ipython",
    "version": 2
   },
   "file_extension": ".py",
   "mimetype": "text/x-python",
   "name": "python",
   "nbconvert_exporter": "python",
   "pygments_lexer": "ipython2",
   "version": "2.7.15rc1"
  }
 },
 "nbformat": 4,
 "nbformat_minor": 2
}
