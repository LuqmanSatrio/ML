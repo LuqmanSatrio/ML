{
 "cells": [
  {
   "cell_type": "markdown",
   "metadata": {},
   "source": [
    "Hausaufgaben von Wajid Ghafoor und Benjamin Ostendorf"
   ]
  },
  {
   "cell_type": "code",
   "execution_count": 122,
   "metadata": {},
   "outputs": [],
   "source": [
    "from PIL import Image, ImageColor\n",
    "import numpy as np\n",
    "from PIL import ImageFilter\n",
    "import math as m\n",
    "from functools import reduce\n",
    "from svmutil import *\n",
    "from itertools import izip_longest"
   ]
  },
  {
   "cell_type": "code",
   "execution_count": 123,
   "metadata": {},
   "outputs": [],
   "source": [
    "def extrema_red(image):\n",
    "    return image.getextrema()[0][0]\n",
    "def extrema_green(image):\n",
    "    return image.getextrema()[1][0]\n",
    "def variance_red(image):\n",
    "    return np.var(image.split()[0])\n",
    "def variance_green(image):\n",
    "    return np.var(image.split()[1])\n",
    "def mean_blue(image):\n",
    "    return np.mean(image.split()[2])"
   ]
  },
  {
   "cell_type": "code",
   "execution_count": 124,
   "metadata": {},
   "outputs": [],
   "source": [
    "def create_feature(image):\n",
    "    er = extrema_red(image)\n",
    "    eg = extrema_green(image)\n",
    "    vr = variance_red(image)\n",
    "    vg = variance_green(image)\n",
    "    mb = mean_blue(image)\n",
    "    return [er,eg,vr,vg,mb]\n",
    "\n",
    "def create_features(img_list):\n",
    "    return list(map(create_feature, img_list))"
   ]
  },
  {
   "cell_type": "code",
   "execution_count": 125,
   "metadata": {},
   "outputs": [],
   "source": [
    "pos_image_list = [Image.open(\"positives/p0\" + str(i) + \".png\") if i < 10 else Image.open(\"positives/p\" + str(i) + \".png\")\n",
    "                  for i in range(1,31)]\n",
    "neg_image_list = [Image.open(\"negatives/n0\" + str(i) + \".png\") if i < 10 else Image.open(\"negatives/n\" + str(i) + \".png\")\n",
    "                  for i in range(1,31)]\n",
    "\n",
    "positive_features_full = create_features(pos_image_list)\n",
    "negative_features_full = create_features(neg_image_list)\n",
    "\n",
    "#split dataset into traning and testing\n",
    "positive_features_half = create_features(pos_image_list[0:15])\n",
    "negative_features_half = create_features(neg_image_list[0:15])"
   ]
  },
  {
   "cell_type": "code",
   "execution_count": 6,
   "metadata": {},
   "outputs": [],
   "source": [
    "y, x = svm_read_problem('/home/trafalger/Dokumente/libsvm/heart_scale')"
   ]
  },
  {
   "cell_type": "code",
   "execution_count": 7,
   "metadata": {},
   "outputs": [],
   "source": [
    "m = svm_train(y[:200], x[:200], '-c 4')"
   ]
  },
  {
   "cell_type": "code",
   "execution_count": 8,
   "metadata": {},
   "outputs": [
    {
     "name": "stdout",
     "output_type": "stream",
     "text": [
      "Accuracy = 84.2857% (59/70) (classification)\n"
     ]
    }
   ],
   "source": [
    "p_label, p_acc, p_val = svm_predict(y[200:], x[200:], m)"
   ]
  },
  {
   "cell_type": "code",
   "execution_count": 127,
   "metadata": {},
   "outputs": [],
   "source": [
    "\n",
    "def prepare_feature_dict(features):\n",
    "    \n",
    "        return [dict(itertools.izip_longest(*[iter([1,p[0],2,p[1],3,p[2],4,p[3],5,p[4]])] * 2, fillvalue=\"\")) for p in features]\n",
    "        \n",
    "        "
   ]
  },
  {
   "cell_type": "code",
   "execution_count": 208,
   "metadata": {},
   "outputs": [],
   "source": [
    "train = 15\n",
    "test = 15"
   ]
  },
  {
   "cell_type": "code",
   "execution_count": 209,
   "metadata": {},
   "outputs": [],
   "source": [
    "feature_dict_pos_train = prepare_feature_dict(positive_features_full[0:train])\n",
    "feature_dict_neg_train = prepare_feature_dict(negative_features_full[0:train])\n",
    "feature_dict_pos_test = prepare_feature_dict(positive_features_full[train:])\n",
    "feature_dict_neg_test = prepare_feature_dict(negative_features_full[train:])"
   ]
  },
  {
   "cell_type": "code",
   "execution_count": 210,
   "metadata": {},
   "outputs": [],
   "source": [
    "feature_list_dict_train = feature_dict_pos_train + feature_dict_neg_train\n",
    "label_list_train = [1 for i in range(train)] + [-1 for i in range(train)]\n",
    "feature_list_dict_test = feature_dict_pos_test + feature_dict_neg_test\n",
    "label_list_test = [1 for i in range(test)] + [-1 for i in range(test)]"
   ]
  },
  {
   "cell_type": "code",
   "execution_count": 211,
   "metadata": {},
   "outputs": [
    {
     "name": "stdout",
     "output_type": "stream",
     "text": [
      "Accuracy = 86.6667% (26/30) (classification)\n"
     ]
    }
   ],
   "source": [
    "#Also good prediction rate\n",
    "m = svm_train(label_list_train, feature_list_dict_train, '-t 0')\n",
    "label, acc, val = svm_predict(label_list_test, feature_list_dict_test, m)"
   ]
  },
  {
   "cell_type": "code",
   "execution_count": 212,
   "metadata": {},
   "outputs": [
    {
     "name": "stdout",
     "output_type": "stream",
     "text": [
      "Accuracy = 90% (27/30) (classification)\n"
     ]
    }
   ],
   "source": [
    "#This one results in really good prediction rate even if the train set holds of 1% ?!?!\n",
    "#Best Accuracy for train,test =(25,5)\n",
    "m = svm_train(label_list_train, feature_list_dict_train, '-t 1')\n",
    "label, acc, val = svm_predict(label_list_test, feature_list_dict_test, m)"
   ]
  },
  {
   "cell_type": "code",
   "execution_count": 213,
   "metadata": {},
   "outputs": [
    {
     "name": "stdout",
     "output_type": "stream",
     "text": [
      "Accuracy = 53.3333% (16/30) (classification)\n"
     ]
    }
   ],
   "source": [
    "# Round about a liitle bit more than 50 percent are predicted\n",
    "m = svm_train(label_list_train, feature_list_dict_train, '-t 2')\n",
    "label, acc, val = svm_predict(label_list_test, feature_list_dict_test, m)"
   ]
  },
  {
   "cell_type": "code",
   "execution_count": 222,
   "metadata": {},
   "outputs": [
    {
     "name": "stdout",
     "output_type": "stream",
     "text": [
      "Accuracy = 50% (15/30) (classification)\n"
     ]
    }
   ],
   "source": [
    "# in mean about 50 % Prediction rate\n",
    "m = svm_train(label_list_train, feature_list_dict_train, '-t 3')\n",
    "label, acc, val = svm_predict(label_list_test, feature_list_dict_test, m)"
   ]
  }
 ],
 "metadata": {
  "kernelspec": {
   "display_name": "Python 3",
   "language": "python",
   "name": "python3"
  },
  "language_info": {
   "codemirror_mode": {
    "name": "ipython",
    "version": 2
   },
   "file_extension": ".py",
   "mimetype": "text/x-python",
   "name": "python",
   "nbconvert_exporter": "python",
   "pygments_lexer": "ipython2",
   "version": "2.7.15rc1"
  }
 },
 "nbformat": 4,
 "nbformat_minor": 2
}
