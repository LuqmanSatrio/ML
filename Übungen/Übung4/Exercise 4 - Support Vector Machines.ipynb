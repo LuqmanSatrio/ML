{
 "cells": [
  {
   "cell_type": "markdown",
   "metadata": {},
   "source": [
    "by Wajid Ghafoor and Benjamin Ostendorf"
   ]
  },
  {
   "cell_type": "markdown",
   "metadata": {},
   "source": [
    "### 1) Download and install libSVM from https://www.csie.ntu.edu.tw/~cjlin/libsvm/"
   ]
  },
  {
   "cell_type": "markdown",
   "metadata": {},
   "source": [
    "We donwloaded it via the git path. Therfore we cloned the repository and than followed the installation instructions in the Readme file"
   ]
  },
  {
   "cell_type": "markdown",
   "metadata": {},
   "source": [
    "### 2) Run the experiments specified in the readme file to test that your installation is correct"
   ]
  },
  {
   "cell_type": "code",
   "execution_count": 20,
   "metadata": {},
   "outputs": [
    {
     "name": "stdout",
     "output_type": "stream",
     "text": [
      "Accuracy = 84.2857% (59/70) (classification)\n"
     ]
    }
   ],
   "source": [
    "#Tutorial aboout the usage of support vector mashines\n",
    "y, x = svm_read_problem('heart_scale')\n",
    "m = svm_train(y[:200], x[:200], '-c 4')\n",
    "p_label, p_acc, p_val = svm_predict(y[200:], x[200:], m)"
   ]
  },
  {
   "cell_type": "markdown",
   "metadata": {},
   "source": [
    "As we can see the installation was successfully and in the above cell it predicted with an accuracy of 84,2857%"
   ]
  },
  {
   "cell_type": "markdown",
   "metadata": {},
   "source": [
    "### (3) Apply support vector machines to classify the Chagas parasite images using thefeature vectors that you generated in exercise 3. You need to run experiments using the linear, polynomial, sigmoid and radial basis kernels."
   ]
  },
  {
   "cell_type": "code",
   "execution_count": 21,
   "metadata": {},
   "outputs": [],
   "source": [
    "# Imports for exercise 4!\n",
    "from PIL import Image, ImageColor\n",
    "import numpy as np\n",
    "from PIL import ImageFilter\n",
    "import math as m\n",
    "from functools import reduce\n",
    "from svmutil import *\n",
    "from itertools import zip_longest"
   ]
  },
  {
   "cell_type": "code",
   "execution_count": 22,
   "metadata": {},
   "outputs": [],
   "source": [
    "# All the features used in exercise 3\n",
    "def extrema_red(image):\n",
    "    return image.getextrema()[0][0]\n",
    "def extrema_green(image):\n",
    "    return image.getextrema()[1][0]\n",
    "def variance_red(image):\n",
    "    return np.var(image.split()[0])\n",
    "def variance_green(image):\n",
    "    return np.var(image.split()[1])\n",
    "def mean_blue(image):\n",
    "    return np.mean(image.split()[2])"
   ]
  },
  {
   "cell_type": "code",
   "execution_count": 23,
   "metadata": {},
   "outputs": [],
   "source": [
    "#create feature 5-tuple into a list!\n",
    "def create_feature(image):\n",
    "    er = extrema_red(image)\n",
    "    eg = extrema_green(image)\n",
    "    vr = variance_red(image)\n",
    "    vg = variance_green(image)\n",
    "    mb = mean_blue(image)\n",
    "    return [er,eg,vr,vg,mb]\n",
    "\n",
    "def create_features(img_list):\n",
    "    return list(map(create_feature, img_list))"
   ]
  },
  {
   "cell_type": "code",
   "execution_count": 24,
   "metadata": {},
   "outputs": [],
   "source": [
    "#Read the images and create features for positive and negative ones\n",
    "pos_image_list = [Image.open(\"positives/p0\" + str(i) + \".png\") if i < 10 else Image.open(\"positives/p\" + str(i) + \".png\")\n",
    "                  for i in range(1,31)]\n",
    "neg_image_list = [Image.open(\"negatives/n0\" + str(i) + \".png\") if i < 10 else Image.open(\"negatives/n\" + str(i) + \".png\")\n",
    "                  for i in range(1,31)]\n",
    "\n",
    "positive_features_full = create_features(pos_image_list)\n",
    "negative_features_full = create_features(neg_image_list)\n",
    "\n",
    "#split dataset into traning and testing\n",
    "positive_features_half = create_features(pos_image_list[0:15])\n",
    "negative_features_half = create_features(neg_image_list[0:15])"
   ]
  },
  {
   "cell_type": "markdown",
   "metadata": {},
   "source": [
    "The pair \"<index]:<value]\" gives a feature (attribute) value: <index> is\n",
    "an integer starting from 1 and <value> is a real number. The only\n",
    "exception is the precomputed kernel, where <index> starts from 0; see\n",
    "the section of precomputed kernels. Indices must be in ASCENDING\n",
    "order.\n"
   ]
  },
  {
   "cell_type": "code",
   "execution_count": 25,
   "metadata": {},
   "outputs": [],
   "source": [
    "# create from the feature_list a LIst with dictionarys with the form for each list: list[f1,f2,...,f_n] -> dict[1:f1,2:f2,...,n:f_n]\n",
    "def prepare_feature_dict(features):\n",
    "    \n",
    "        return [dict(zip_longest(*[iter([1,p[0],2,p[1],3,p[2],4,p[3],5,p[4]])] * 2, fillvalue=\"\")) for p in features]\n",
    "        \n",
    "        "
   ]
  },
  {
   "cell_type": "code",
   "execution_count": 26,
   "metadata": {},
   "outputs": [],
   "source": [
    "# specify the length of training and test set\n",
    "train = 25\n",
    "test = 5"
   ]
  },
  {
   "cell_type": "code",
   "execution_count": 27,
   "metadata": {},
   "outputs": [],
   "source": [
    "# create labels,train and test set for support vector mashines!\n",
    "feature_dict_pos_train = prepare_feature_dict(positive_features_full[0:train])\n",
    "feature_dict_neg_train = prepare_feature_dict(negative_features_full[0:train])\n",
    "feature_dict_pos_test = prepare_feature_dict(positive_features_full[train:])\n",
    "feature_dict_neg_test = prepare_feature_dict(negative_features_full[train:])"
   ]
  },
  {
   "cell_type": "code",
   "execution_count": 28,
   "metadata": {},
   "outputs": [],
   "source": [
    "#concatenate negative and positive features and labels\n",
    "feature_list_dict_train = feature_dict_pos_train + feature_dict_neg_train\n",
    "label_list_train = [1 for i in range(train)] + [-1 for i in range(train)]\n",
    "feature_list_dict_test = feature_dict_pos_test + feature_dict_neg_test\n",
    "label_list_test = [1 for i in range(test)] + [-1 for i in range(test)]"
   ]
  },
  {
   "cell_type": "markdown",
   "metadata": {},
   "source": [
    "### (4) Prepare a report containing your final results."
   ]
  },
  {
   "cell_type": "markdown",
   "metadata": {},
   "source": [
    "Kerneltype: 0 -- linear: u'*v"
   ]
  },
  {
   "cell_type": "code",
   "execution_count": 29,
   "metadata": {},
   "outputs": [
    {
     "name": "stdout",
     "output_type": "stream",
     "text": [
      "Accuracy = 90% (9/10) (classification)\n"
     ]
    }
   ],
   "source": [
    "#Also good results about 90 %\n",
    "#Best Accuracy for train,test =(25,5)\n",
    "m = svm_train(label_list_train, feature_list_dict_train, '-t 0')\n",
    "label, acc, val = svm_predict(label_list_test, feature_list_dict_test, m)"
   ]
  },
  {
   "cell_type": "markdown",
   "metadata": {},
   "source": [
    "Kerneltype: 1 polynomial: (gamma*u'*v + coef0)^degree"
   ]
  },
  {
   "cell_type": "code",
   "execution_count": 30,
   "metadata": {},
   "outputs": [
    {
     "name": "stdout",
     "output_type": "stream",
     "text": [
      "Accuracy = 100% (10/10) (classification)\n"
     ]
    }
   ],
   "source": [
    "#This one results in really good prediction rate even if the train set holds of 1% ?!?!\n",
    "#Best Accuracy for train,test =(25,5)\n",
    "m = svm_train(label_list_train, feature_list_dict_train, '-t 1')\n",
    "label, acc, val = svm_predict(label_list_test, feature_list_dict_test, m)"
   ]
  },
  {
   "cell_type": "markdown",
   "metadata": {},
   "source": [
    "Kerneltype: 2 -- radial basis function: exp(-gamma*|u-v|^2)"
   ]
  },
  {
   "cell_type": "code",
   "execution_count": 31,
   "metadata": {},
   "outputs": [
    {
     "name": "stdout",
     "output_type": "stream",
     "text": [
      "Accuracy = 50% (5/10) (classification)\n"
     ]
    }
   ],
   "source": [
    "# Round about a liitle bit more than 50 percent are predicted\n",
    "m = svm_train(label_list_train, feature_list_dict_train, '-t 2')\n",
    "label, acc, val = svm_predict(label_list_test, feature_list_dict_test, m)"
   ]
  },
  {
   "cell_type": "markdown",
   "metadata": {},
   "source": [
    "Kerneltype: 3 -- sigmoid: tanh(gamma*u'*v + coef0)"
   ]
  },
  {
   "cell_type": "code",
   "execution_count": 32,
   "metadata": {},
   "outputs": [
    {
     "name": "stdout",
     "output_type": "stream",
     "text": [
      "Accuracy = 50% (5/10) (classification)\n"
     ]
    }
   ],
   "source": [
    "# in mean about 50 % Prediction rate\n",
    "m = svm_train(label_list_train, feature_list_dict_train, '-t 3')\n",
    "label, acc, val = svm_predict(label_list_test, feature_list_dict_test, m)"
   ]
  }
 ],
 "metadata": {
  "kernelspec": {
   "display_name": "Python 3",
   "language": "python",
   "name": "python3"
  },
  "language_info": {
   "codemirror_mode": {
    "name": "ipython",
    "version": 3
   },
   "file_extension": ".py",
   "mimetype": "text/x-python",
   "name": "python",
   "nbconvert_exporter": "python",
   "pygments_lexer": "ipython3",
   "version": "3.6.7"
  }
 },
 "nbformat": 4,
 "nbformat_minor": 2
}
