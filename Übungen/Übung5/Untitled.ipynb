{
 "cells": [
  {
   "cell_type": "code",
   "execution_count": 1,
   "metadata": {},
   "outputs": [],
   "source": [
    "# Imports needed for Exercise 5\n",
    "import numpy as np\n",
    "import matplotlib.pyplot as plt\n",
    "import math as m\n",
    "import random"
   ]
  },
  {
   "cell_type": "code",
   "execution_count": 3,
   "metadata": {},
   "outputs": [],
   "source": [
    "# We read the raw data and convert them into a list of 3-Tuples reffered as data\n",
    "with open('dataCircle.txt') as f:\n",
    "    read_data = f.read()\n",
    "f.close()\n",
    "#raw_data = [data_line.rstrip().split() for data_line in read_data ]\n",
    "#data = [tuple(map(lambda x: float(x), line)) for line in raw_data]"
   ]
  },
  {
   "cell_type": "code",
   "execution_count": 4,
   "metadata": {},
   "outputs": [],
   "source": [
    "read_data_string = read_data.split('\\r')\n",
    "data_circle_string= list(map(lambda x: x.split(), read_data_string))"
   ]
  },
  {
   "cell_type": "code",
   "execution_count": 5,
   "metadata": {},
   "outputs": [],
   "source": [
    "data_circle = []\n",
    "for liste in data_circle_string:\n",
    "    data_circle.append(list(map(lambda x: float(x), liste)))\n",
    "    if data_circle[-1][2] == 0.0:\n",
    "        data_circle[-1][2] = -1.0"
   ]
  },
  {
   "cell_type": "code",
   "execution_count": 6,
   "metadata": {},
   "outputs": [
    {
     "data": {
      "image/png": "[encoded data removed]",
      "text/plain": [
       "<Figure size 2592x864 with 1 Axes>"
      ]
     },
     "metadata": {
      "needs_background": "light"
     },
     "output_type": "display_data"
    }
   ],
   "source": [
    "# We made sure that we got the right representation of the Data by comparing it to the erxercise sheet\n",
    "#% matplotlib\n",
    "fig = plt.figure(figsize=(36,12))\n",
    "ax1 = fig.add_subplot(121)\n",
    "ax1.plot([data_x[0] for data_x in data_circle[0:40]], [data_y[1] for data_y in data_circle[0:40]], \"ro\")\n",
    "ax1.plot([data_x[0] for data_x in data_circle[40:]], [data_y[1] for data_y in data_circle[40:]], \"bo\")\n",
    "ax1.axis([-10, 10, -10, 10])\n",
    "\n",
    "plt.show()"
   ]
  },
  {
   "cell_type": "code",
   "execution_count": 7,
   "metadata": {},
   "outputs": [],
   "source": [
    "def get_weak_classifier(data):\n",
    "    axis = random.choice([0, 1])\n",
    "    val = random.uniform(-10, 10)\n",
    "    corrects = 0\n",
    "    faults = 0\n",
    "    for point in data:\n",
    "        if point[axis] < val and point[2] == 1:\n",
    "            corrects += 1\n",
    "        elif point[axis] >= val and point[2] == -1:\n",
    "            corrects += 1\n",
    "        else:\n",
    "            faults += 1\n",
    "    \n",
    "    if corrects > faults:\n",
    "        return [lambda point: 1.0 if point[axis] < val else -1.0, axis, val,  corrects/float(len(data))]\n",
    "    else:\n",
    "        return [lambda point: -1.0 if point[axis] < val else 1.0,  axis, val,  faults/float(len(data))]\n",
    "    "
   ]
  },
  {
   "cell_type": "code",
   "execution_count": 41,
   "metadata": {},
   "outputs": [],
   "source": [
    "def error_of_weak_classifier(distribution, data, classifier):\n",
    "    result = 0\n",
    "    for index in range(len(data)):\n",
    "        if classifier[0](data[index]) != data[index][2]:\n",
    "            result += distribution[index]\n",
    "    return result"
   ]
  },
  {
   "cell_type": "code",
   "execution_count": 9,
   "metadata": {},
   "outputs": [],
   "source": [
    "def update_distribution(distribution, data, classifier):\n",
    "    #print(error_of_weak_classifier(distribution, data, classifier))\n",
    "    alph = alpha(error_of_weak_classifier(distribution, data, classifier))\n",
    "    for i in range(len(data)):\n",
    "        distribution[i] = 1/float(z(distribution, data, alph, classifier)) * distribution[i] * m.exp(-alph * data[i][2] * classifier[0](data[i]))\n",
    "    return distribution"
   ]
  },
  {
   "cell_type": "code",
   "execution_count": 10,
   "metadata": {},
   "outputs": [],
   "source": [
    "def z(distribution, data, alpha, classifier):\n",
    "    corrects = []\n",
    "    faults = []\n",
    "    for i in range(len(data)):\n",
    "        if classifier[0](data[i]) == data[i][2]:\n",
    "            corrects.append([data[i], i])\n",
    "        else:\n",
    "            faults.append([data[i], i])\n",
    "    sum1 = 0\n",
    "    for point in corrects:\n",
    "        sum1 += distribution[point[1]]*m.exp(-alpha)\n",
    "    sum2 = 0\n",
    "    for point in faults:\n",
    "        sum2 += distribution[point[1]]*m.exp(alpha)\n",
    "    return sum1 + sum2\n",
    "    "
   ]
  },
  {
   "cell_type": "code",
   "execution_count": 11,
   "metadata": {},
   "outputs": [],
   "source": [
    "def alpha(error):\n",
    "    return 0.5 * m.log((1-error)/float(error))"
   ]
  },
  {
   "cell_type": "code",
   "execution_count": 12,
   "metadata": {},
   "outputs": [],
   "source": [
    "def ada_boost(list_of_classifiers, data):\n",
    "    distribution = [1/float(len(data)) for i in range(len(data))]\n",
    "    error_list=[]\n",
    "    for i in range(100):\n",
    "        error_list = list(map(lambda x: error_of_weak_classifier(distribution, data, x), list_of_classifiers))\n",
    "        min_error_classifier_index = error_list.index(min(error_list))\n",
    "        distribution = update_distribution(distribution, data, list_of_classifiers[min_error_classifier_index])\n",
    "    result = []\n",
    "    for i in range(len(error_list)):\n",
    "        result.append([alpha(error_list[i]), list_of_classifiers[i]])\n",
    "    return result"
   ]
  },
  {
   "cell_type": "code",
   "execution_count": 121,
   "metadata": {},
   "outputs": [],
   "source": [
    "def classify(point, strong_classifier):\n",
    "    result = 0\n",
    "    for weighted_classifier in strong_classifier:\n",
    "        result += weighted_classifier[0]*weighted_classifier[1][0](point)\n",
    "    print(np.sign(result))  \n",
    "    if np.sign(result) < 0:\n",
    "        return -1\n",
    "    else:\n",
    "        return 1"
   ]
  },
  {
   "cell_type": "code",
   "execution_count": 117,
   "metadata": {},
   "outputs": [],
   "source": [
    "list_of_cla = [get_weak_classifier(data_circle) for i in range(500)]\n",
    "classifiers = ada_boost(list_of_cla, data_circle)"
   ]
  },
  {
   "cell_type": "code",
   "execution_count": 120,
   "metadata": {},
   "outputs": [
    {
     "name": "stdout",
     "output_type": "stream",
     "text": [
      "-1.0\n",
      "-1.0\n",
      "-1.0\n",
      "1.0\n",
      "-1.0\n",
      "-1.0\n",
      "-1.0\n",
      "1.0\n",
      "-1.0\n",
      "-1.0\n",
      "-1.0\n",
      "-1.0\n",
      "-1.0\n",
      "1.0\n",
      "-1.0\n",
      "-1.0\n",
      "-1.0\n",
      "-1.0\n",
      "-1.0\n",
      "-1.0\n",
      "-1.0\n",
      "1.0\n",
      "-1.0\n",
      "-1.0\n",
      "-1.0\n",
      "-1.0\n",
      "1.0\n",
      "-1.0\n",
      "-1.0\n",
      "1.0\n",
      "-1.0\n",
      "-1.0\n",
      "-1.0\n",
      "-1.0\n",
      "-1.0\n",
      "-1.0\n",
      "-1.0\n",
      "-1.0\n",
      "-1.0\n",
      "1.0\n",
      "-1.0\n",
      "-1.0\n",
      "-1.0\n",
      "-1.0\n",
      "1.0\n",
      "-1.0\n",
      "-1.0\n",
      "-1.0\n",
      "-1.0\n",
      "-1.0\n",
      "-1.0\n",
      "-1.0\n",
      "1.0\n",
      "-1.0\n",
      "1.0\n",
      "1.0\n",
      "-1.0\n",
      "-1.0\n",
      "-1.0\n",
      "-1.0\n",
      "-1.0\n",
      "-1.0\n",
      "1.0\n",
      "-1.0\n",
      "-1.0\n",
      "1.0\n",
      "-1.0\n",
      "-1.0\n",
      "-1.0\n",
      "1.0\n",
      "-1.0\n",
      "1.0\n",
      "1.0\n",
      "-1.0\n",
      "-1.0\n",
      "1.0\n",
      "-1.0\n",
      "-1.0\n",
      "-1.0\n",
      "-1.0\n",
      "-1.0\n",
      "1.0\n",
      "-1.0\n",
      "1.0\n",
      "-1.0\n",
      "-1.0\n",
      "-1.0\n",
      "-1.0\n",
      "1.0\n",
      "-1.0\n",
      "1.0\n",
      "1.0\n",
      "-1.0\n",
      "1.0\n",
      "-1.0\n",
      "1.0\n",
      "-1.0\n",
      "-1.0\n",
      "-1.0\n",
      "-1.0\n",
      "1.0\n",
      "-1.0\n"
     ]
    }
   ],
   "source": [
    "for point in data_circle:\n",
    "    print(classify(point, classifiers))\n",
    "    "
   ]
  },
  {
   "cell_type": "code",
   "execution_count": null,
   "metadata": {},
   "outputs": [],
   "source": []
  }
 ],
 "metadata": {
  "kernelspec": {
   "display_name": "Python 3",
   "language": "python",
   "name": "python3"
  },
  "language_info": {
   "codemirror_mode": {
    "name": "ipython",
    "version": 2
   },
   "file_extension": ".py",
   "mimetype": "text/x-python",
   "name": "python",
   "nbconvert_exporter": "python",
   "pygments_lexer": "ipython2",
   "version": "2.7.15rc1"
  }
 },
 "nbformat": 4,
 "nbformat_minor": 2
}
